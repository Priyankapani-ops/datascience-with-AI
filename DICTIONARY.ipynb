{
 "cells": [
  {
   "cell_type": "markdown",
   "id": "255f311d-7c5c-4ef7-9cad-38e6bce20175",
   "metadata": {},
   "source": [
    "# DICTIONARY"
   ]
  },
  {
   "cell_type": "code",
   "execution_count": 1,
   "id": "f94b5374-e12f-45b0-bd69-de35dd41c4d5",
   "metadata": {},
   "outputs": [],
   "source": [
    "dict={}"
   ]
  },
  {
   "cell_type": "code",
   "execution_count": 2,
   "id": "d4d05d82-1619-4546-8597-24593807fb26",
   "metadata": {},
   "outputs": [
    {
     "data": {
      "text/plain": [
       "dict"
      ]
     },
     "execution_count": 2,
     "metadata": {},
     "output_type": "execute_result"
    }
   ],
   "source": [
    "type(dict)"
   ]
  },
  {
   "cell_type": "code",
   "execution_count": 6,
   "id": "4920eeaa-4796-4771-97a4-3747c4139272",
   "metadata": {},
   "outputs": [],
   "source": [
    "mydict={1:'one',2:'two',3:'three'}"
   ]
  },
  {
   "cell_type": "code",
   "execution_count": 7,
   "id": "60d35c87-bb01-4808-b22f-ebe4742f7482",
   "metadata": {},
   "outputs": [
    {
     "data": {
      "text/plain": [
       "{1: 'one', 2: 'two', 3: 'three'}"
      ]
     },
     "execution_count": 7,
     "metadata": {},
     "output_type": "execute_result"
    }
   ],
   "source": [
    "mydict"
   ]
  },
  {
   "cell_type": "code",
   "execution_count": 8,
   "id": "71cecf99-8ee4-46bb-8cbe-4e826736a4d4",
   "metadata": {},
   "outputs": [
    {
     "data": {
      "text/plain": [
       "dict_keys([1, 2, 3])"
      ]
     },
     "execution_count": 8,
     "metadata": {},
     "output_type": "execute_result"
    }
   ],
   "source": [
    "mydict.keys() # to access keys of the dict"
   ]
  },
  {
   "cell_type": "code",
   "execution_count": 9,
   "id": "7fdc9cfb-11fd-4f42-9733-639350772c91",
   "metadata": {},
   "outputs": [
    {
     "data": {
      "text/plain": [
       "dict_values(['one', 'two', 'three'])"
      ]
     },
     "execution_count": 9,
     "metadata": {},
     "output_type": "execute_result"
    }
   ],
   "source": [
    "mydict.values() # to access values of dict"
   ]
  },
  {
   "cell_type": "code",
   "execution_count": 10,
   "id": "3ed91ab5-8759-4c4a-8b51-54fedf033198",
   "metadata": {},
   "outputs": [
    {
     "data": {
      "text/plain": [
       "dict_items([(1, 'one'), (2, 'two'), (3, 'three')])"
      ]
     },
     "execution_count": 10,
     "metadata": {},
     "output_type": "execute_result"
    }
   ],
   "source": [
    "mydict.items() # to acess items of the dict"
   ]
  },
  {
   "cell_type": "markdown",
   "id": "a2e70655-a781-405a-89f1-bff87a70e42e",
   "metadata": {},
   "source": [
    "# HOW TO CREATE A DICT"
   ]
  },
  {
   "cell_type": "code",
   "execution_count": 11,
   "id": "a041fd79-816d-4219-aafb-989886dba2d1",
   "metadata": {},
   "outputs": [],
   "source": [
    "keys={'a','b','c','d'}\n",
    "values={10,20,30}\n",
    "dict1=dict.fromkeys(keys,values)"
   ]
  },
  {
   "cell_type": "code",
   "execution_count": 12,
   "id": "d871c14b-1417-4dd7-982f-8cc22c91ce8b",
   "metadata": {},
   "outputs": [
    {
     "data": {
      "text/plain": [
       "{'c': {10, 20, 30}, 'a': {10, 20, 30}, 'd': {10, 20, 30}, 'b': {10, 20, 30}}"
      ]
     },
     "execution_count": 12,
     "metadata": {},
     "output_type": "execute_result"
    }
   ],
   "source": [
    "dict1"
   ]
  },
  {
   "cell_type": "code",
   "execution_count": 13,
   "id": "4c5cd6b0-9315-4e8f-b846-d42bb3d35583",
   "metadata": {},
   "outputs": [
    {
     "data": {
      "text/plain": [
       "{'c': {10, 20, 30, 40},\n",
       " 'a': {10, 20, 30, 40},\n",
       " 'd': {10, 20, 30, 40},\n",
       " 'b': {10, 20, 30, 40}}"
      ]
     },
     "execution_count": 13,
     "metadata": {},
     "output_type": "execute_result"
    }
   ],
   "source": [
    "values.add(40)\n",
    "dict1"
   ]
  },
  {
   "cell_type": "markdown",
   "id": "4b645a9f-89f3-4db7-8669-43aa95d52b2c",
   "metadata": {},
   "source": [
    "# HOW TO ACCESS A ITEM USING KEY AND GET METHOD"
   ]
  },
  {
   "cell_type": "code",
   "execution_count": 15,
   "id": "6ce11dd5-8c24-40fc-ad61-2a39362e10f1",
   "metadata": {},
   "outputs": [
    {
     "data": {
      "text/plain": [
       "{'name': 'priya', 'id': 1234, 'job': 'datascience', 'dob': 1991}"
      ]
     },
     "execution_count": 15,
     "metadata": {},
     "output_type": "execute_result"
    }
   ],
   "source": [
    "dict2={'name':'priya','id':1234,'job':'datascience','dob':1991}\n",
    "dict2"
   ]
  },
  {
   "cell_type": "code",
   "execution_count": 17,
   "id": "f7cbe446-5b6d-444f-9730-4ea26cf884de",
   "metadata": {},
   "outputs": [
    {
     "data": {
      "text/plain": [
       "'priya'"
      ]
     },
     "execution_count": 17,
     "metadata": {},
     "output_type": "execute_result"
    }
   ],
   "source": [
    "dict2['name']"
   ]
  },
  {
   "cell_type": "code",
   "execution_count": 19,
   "id": "c624eed5-f1a1-43ef-ad6e-13bd0ba49ed6",
   "metadata": {},
   "outputs": [
    {
     "data": {
      "text/plain": [
       "'datascience'"
      ]
     },
     "execution_count": 19,
     "metadata": {},
     "output_type": "execute_result"
    }
   ],
   "source": [
    "dict2['job']"
   ]
  },
  {
   "cell_type": "code",
   "execution_count": 20,
   "id": "03650747-81a0-4a3f-b55e-0c8b0ea9f755",
   "metadata": {},
   "outputs": [
    {
     "data": {
      "text/plain": [
       "1234"
      ]
     },
     "execution_count": 20,
     "metadata": {},
     "output_type": "execute_result"
    }
   ],
   "source": [
    "dict2.get('id')"
   ]
  },
  {
   "cell_type": "code",
   "execution_count": 21,
   "id": "ddea0c2a-162e-42b2-b22d-712b80ed8165",
   "metadata": {},
   "outputs": [
    {
     "data": {
      "text/plain": [
       "1991"
      ]
     },
     "execution_count": 21,
     "metadata": {},
     "output_type": "execute_result"
    }
   ],
   "source": [
    "dict2.get('dob')"
   ]
  },
  {
   "cell_type": "markdown",
   "id": "ae7f0f56-97e7-45a4-b845-0e7a04c4a4e9",
   "metadata": {},
   "source": [
    "# HOW TO CHANGE REMOVE ADD ITEMS TO DICT"
   ]
  },
  {
   "cell_type": "code",
   "execution_count": 5,
   "id": "2a84f99f-f468-4b55-95ef-8b07a9206b6d",
   "metadata": {},
   "outputs": [
    {
     "data": {
      "text/plain": [
       "{}"
      ]
     },
     "execution_count": 5,
     "metadata": {},
     "output_type": "execute_result"
    }
   ],
   "source": [
    "dict={}\n",
    "dict"
   ]
  },
  {
   "cell_type": "code",
   "execution_count": 6,
   "id": "d828e7cc-6998-4076-8ec0-21ba245ca342",
   "metadata": {},
   "outputs": [],
   "source": [
    "dict['name']='priya'"
   ]
  },
  {
   "cell_type": "code",
   "execution_count": 7,
   "id": "f2be0b95-8315-442b-b66b-c23b4e4fbf04",
   "metadata": {},
   "outputs": [],
   "source": [
    "dict['city']='BLR' #adding items to the dict\n",
    "dict['id']= 1234\n",
    "dict['job']='devops'"
   ]
  },
  {
   "cell_type": "code",
   "execution_count": 8,
   "id": "89cd278a-77e5-4440-853c-679c26c08b29",
   "metadata": {},
   "outputs": [
    {
     "data": {
      "text/plain": [
       "{'name': 'priya', 'city': 'BLR', 'id': 1234, 'job': 'devops'}"
      ]
     },
     "execution_count": 8,
     "metadata": {},
     "output_type": "execute_result"
    }
   ],
   "source": [
    "dict"
   ]
  },
  {
   "cell_type": "code",
   "execution_count": 9,
   "id": "223e395e-3459-4393-8b4a-4327635096ef",
   "metadata": {},
   "outputs": [],
   "source": [
    "dict['DOB']= 1991"
   ]
  },
  {
   "cell_type": "code",
   "execution_count": 10,
   "id": "6443e261-2477-4e42-99c1-93f2cd6bcdd3",
   "metadata": {},
   "outputs": [
    {
     "data": {
      "text/plain": [
       "{'name': 'priya', 'city': 'BLR', 'id': 1234, 'job': 'devops', 'DOB': 1991}"
      ]
     },
     "execution_count": 10,
     "metadata": {},
     "output_type": "execute_result"
    }
   ],
   "source": [
    "dict"
   ]
  },
  {
   "cell_type": "code",
   "execution_count": 11,
   "id": "0635c4d6-07ef-466a-9cbe-0b21f9956445",
   "metadata": {},
   "outputs": [],
   "source": [
    "dict['DOB']=1998 # change the dictionary items"
   ]
  },
  {
   "cell_type": "code",
   "execution_count": 12,
   "id": "98192fdf-2e4b-41d8-b269-9c6f8a07ac5f",
   "metadata": {},
   "outputs": [
    {
     "data": {
      "text/plain": [
       "{'name': 'priya', 'city': 'BLR', 'id': 1234, 'job': 'devops', 'DOB': 1998}"
      ]
     },
     "execution_count": 12,
     "metadata": {},
     "output_type": "execute_result"
    }
   ],
   "source": [
    "dict"
   ]
  },
  {
   "cell_type": "code",
   "execution_count": 14,
   "id": "46f255d3-f2d5-4798-8d73-4696e3c2bade",
   "metadata": {},
   "outputs": [
    {
     "data": {
      "text/plain": [
       "'devops'"
      ]
     },
     "execution_count": 14,
     "metadata": {},
     "output_type": "execute_result"
    }
   ],
   "source": [
    "dict.pop('job') # remove the particular item"
   ]
  },
  {
   "cell_type": "code",
   "execution_count": 15,
   "id": "da956a15-534b-4694-8357-5956de3322c9",
   "metadata": {},
   "outputs": [
    {
     "data": {
      "text/plain": [
       "{'name': 'priya', 'city': 'BLR', 'id': 1234, 'DOB': 1998}"
      ]
     },
     "execution_count": 15,
     "metadata": {},
     "output_type": "execute_result"
    }
   ],
   "source": [
    "dict"
   ]
  },
  {
   "cell_type": "code",
   "execution_count": 16,
   "id": "2989f25b-470a-48ab-9973-6d6eeee72a6e",
   "metadata": {},
   "outputs": [
    {
     "data": {
      "text/plain": [
       "('DOB', 1998)"
      ]
     },
     "execution_count": 16,
     "metadata": {},
     "output_type": "execute_result"
    }
   ],
   "source": [
    "dict.popitem() #any random item will be deleted"
   ]
  },
  {
   "cell_type": "code",
   "execution_count": 17,
   "id": "6f7287d8-3ce5-49e4-b4d1-e94e2843edfd",
   "metadata": {},
   "outputs": [],
   "source": [
    "del dict"
   ]
  },
  {
   "cell_type": "code",
   "execution_count": 18,
   "id": "835498b4-fad0-4ee4-8b80-e254d0f3779d",
   "metadata": {},
   "outputs": [
    {
     "data": {
      "text/plain": [
       "dict"
      ]
     },
     "execution_count": 18,
     "metadata": {},
     "output_type": "execute_result"
    }
   ],
   "source": [
    "dict"
   ]
  },
  {
   "cell_type": "markdown",
   "id": "051da9d4-4d8a-44c4-ac39-8690abac292f",
   "metadata": {},
   "source": [
    "# COPY"
   ]
  },
  {
   "cell_type": "code",
   "execution_count": 19,
   "id": "a84ab5ed-559d-4a43-b3f0-e98cd998b54d",
   "metadata": {},
   "outputs": [],
   "source": [
    " \n",
    "mydict = {'Name':'Asif' , 'ID': 12345 , 'DOB': 1991 , 'Address' :'odisha'}"
   ]
  },
  {
   "cell_type": "code",
   "execution_count": 20,
   "id": "77f2f0c7-7252-4163-b0dd-c7a6f5176b9c",
   "metadata": {},
   "outputs": [],
   "source": [
    "mydict2= mydict.copy()"
   ]
  },
  {
   "cell_type": "code",
   "execution_count": 21,
   "id": "1a470847-05ae-4887-9925-d1bca0c0757e",
   "metadata": {},
   "outputs": [
    {
     "data": {
      "text/plain": [
       "{'Name': 'Asif', 'ID': 12345, 'DOB': 1991, 'Address': 'odisha'}"
      ]
     },
     "execution_count": 21,
     "metadata": {},
     "output_type": "execute_result"
    }
   ],
   "source": [
    "mydict2"
   ]
  },
  {
   "cell_type": "markdown",
   "id": "7a700a34-495d-4608-9451-304e2081514e",
   "metadata": {},
   "source": [
    "# LOOP THROUGH DICTIONARY"
   ]
  },
  {
   "cell_type": "code",
   "execution_count": 22,
   "id": "f705732f-714e-49c0-b3aa-832e779e50b5",
   "metadata": {},
   "outputs": [
    {
     "data": {
      "text/plain": [
       "{'Name': 'Asif', 'ID': 12345, 'DOB': 1991, 'Address': 'odisha'}"
      ]
     },
     "execution_count": 22,
     "metadata": {},
     "output_type": "execute_result"
    }
   ],
   "source": [
    "mydict2"
   ]
  },
  {
   "cell_type": "code",
   "execution_count": 26,
   "id": "64621969-b761-488e-b561-a03dfab682ac",
   "metadata": {},
   "outputs": [
    {
     "name": "stdout",
     "output_type": "stream",
     "text": [
      "Name : Asif\n",
      "ID : 12345\n",
      "DOB : 1991\n",
      "Address : odisha\n"
     ]
    }
   ],
   "source": [
    "for i in mydict2:\n",
    "    print(i,\":\",mydict2[i])"
   ]
  },
  {
   "cell_type": "markdown",
   "id": "d0368b99-9ff4-4bdc-b1ba-32e47f9de391",
   "metadata": {},
   "source": [
    "# DICTIONARY MEMBERSHIP"
   ]
  },
  {
   "cell_type": "code",
   "execution_count": 27,
   "id": "92421943-1252-47e3-8740-6b6ad89ab37a",
   "metadata": {},
   "outputs": [
    {
     "data": {
      "text/plain": [
       "{'Name': 'Asif', 'ID': 12345, 'DOB': 1991, 'Job': 'Analyst'}"
      ]
     },
     "execution_count": 27,
     "metadata": {},
     "output_type": "execute_result"
    }
   ],
   "source": [
    "mydict1 = {'Name':'Asif' , 'ID': 12345 , 'DOB': 1991 , 'Job': 'Analyst'}\n",
    "mydict1"
   ]
  },
  {
   "cell_type": "code",
   "execution_count": 28,
   "id": "450b0dc7-9b2b-4fe5-abcf-83d5eb36820b",
   "metadata": {},
   "outputs": [
    {
     "data": {
      "text/plain": [
       "False"
      ]
     },
     "execution_count": 28,
     "metadata": {},
     "output_type": "execute_result"
    }
   ],
   "source": [
    "'name' in mydict1 "
   ]
  },
  {
   "cell_type": "code",
   "execution_count": 29,
   "id": "fd4ab0f4-c3b1-4ba4-85e9-51eaaef5e4ed",
   "metadata": {},
   "outputs": [
    {
     "data": {
      "text/plain": [
       "True"
      ]
     },
     "execution_count": 29,
     "metadata": {},
     "output_type": "execute_result"
    }
   ],
   "source": [
    "'Name' in mydict1 #membership can be done only for keys"
   ]
  },
  {
   "cell_type": "code",
   "execution_count": 30,
   "id": "462d2789-38fd-4001-b741-5921d8ce27ca",
   "metadata": {},
   "outputs": [
    {
     "data": {
      "text/plain": [
       "False"
      ]
     },
     "execution_count": 30,
     "metadata": {},
     "output_type": "execute_result"
    }
   ],
   "source": [
    "12345 in mydict1"
   ]
  },
  {
   "cell_type": "code",
   "execution_count": 31,
   "id": "7c5b2fd8-62b8-4adf-8e9b-dd9842d69d5d",
   "metadata": {},
   "outputs": [
    {
     "data": {
      "text/plain": [
       "True"
      ]
     },
     "execution_count": 31,
     "metadata": {},
     "output_type": "execute_result"
    }
   ],
   "source": [
    "'DOB' in mydict1"
   ]
  },
  {
   "cell_type": "markdown",
   "id": "c2318664-b32a-4963-b879-980421f5dc7b",
   "metadata": {},
   "source": [
    "# ALL ANY"
   ]
  },
  {
   "cell_type": "code",
   "execution_count": 32,
   "id": "a557cd03-3265-47b8-b456-abf077cdd985",
   "metadata": {},
   "outputs": [
    {
     "data": {
      "text/plain": [
       "True"
      ]
     },
     "execution_count": 32,
     "metadata": {},
     "output_type": "execute_result"
    }
   ],
   "source": [
    "all(mydict1)"
   ]
  },
  {
   "cell_type": "code",
   "execution_count": 33,
   "id": "8e85f13f-1738-437c-a70c-a968311b684d",
   "metadata": {},
   "outputs": [],
   "source": [
    "mydict1['ID']=0"
   ]
  },
  {
   "cell_type": "code",
   "execution_count": 34,
   "id": "f8fdd08a-759f-4030-a0c5-88847f557a20",
   "metadata": {},
   "outputs": [
    {
     "data": {
      "text/plain": [
       "{'Name': 'Asif', 'ID': 0, 'DOB': 1991, 'Job': 'Analyst'}"
      ]
     },
     "execution_count": 34,
     "metadata": {},
     "output_type": "execute_result"
    }
   ],
   "source": [
    "mydict1"
   ]
  },
  {
   "cell_type": "code",
   "execution_count": 35,
   "id": "a9d48257-6851-4d5f-83e2-9259eac67d69",
   "metadata": {},
   "outputs": [
    {
     "data": {
      "text/plain": [
       "True"
      ]
     },
     "execution_count": 35,
     "metadata": {},
     "output_type": "execute_result"
    }
   ],
   "source": [
    "all(mydict1)"
   ]
  },
  {
   "cell_type": "code",
   "execution_count": 38,
   "id": "797bf4b4-a1f1-48b9-8f8d-83084a117db5",
   "metadata": {},
   "outputs": [],
   "source": [
    "mydict1[0]=0"
   ]
  },
  {
   "cell_type": "code",
   "execution_count": 39,
   "id": "4d5fe788-deb2-4a8b-ad15-625bf3da4ee7",
   "metadata": {},
   "outputs": [
    {
     "data": {
      "text/plain": [
       "{'Name': 'Asif', 'ID': 0, 'DOB': 1991, 'Job': 'Analyst', 0: 0}"
      ]
     },
     "execution_count": 39,
     "metadata": {},
     "output_type": "execute_result"
    }
   ],
   "source": [
    "mydict1"
   ]
  },
  {
   "cell_type": "code",
   "execution_count": 40,
   "id": "851bb5cb-6f6a-4a13-93d9-af297402f4c1",
   "metadata": {},
   "outputs": [
    {
     "data": {
      "text/plain": [
       "False"
      ]
     },
     "execution_count": 40,
     "metadata": {},
     "output_type": "execute_result"
    }
   ],
   "source": [
    "all(mydict1) #if any key is false it returns false ; if all keys are true then true"
   ]
  },
  {
   "cell_type": "code",
   "execution_count": 41,
   "id": "9928f84c-ff95-4f4d-9c03-9c079ae04574",
   "metadata": {},
   "outputs": [
    {
     "data": {
      "text/plain": [
       "True"
      ]
     },
     "execution_count": 41,
     "metadata": {},
     "output_type": "execute_result"
    }
   ],
   "source": [
    "any(mydict1)"
   ]
  },
  {
   "cell_type": "code",
   "execution_count": null,
   "id": "ceba6def-51c1-4582-9e8a-4f7b300e7f17",
   "metadata": {},
   "outputs": [],
   "source": []
  }
 ],
 "metadata": {
  "kernelspec": {
   "display_name": "Python [conda env:base] *",
   "language": "python",
   "name": "conda-base-py"
  },
  "language_info": {
   "codemirror_mode": {
    "name": "ipython",
    "version": 3
   },
   "file_extension": ".py",
   "mimetype": "text/x-python",
   "name": "python",
   "nbconvert_exporter": "python",
   "pygments_lexer": "ipython3",
   "version": "3.12.7"
  }
 },
 "nbformat": 4,
 "nbformat_minor": 5
}
