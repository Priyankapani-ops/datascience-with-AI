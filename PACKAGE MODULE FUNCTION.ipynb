{
 "cells": [
  {
   "cell_type": "markdown",
   "id": "610538a9",
   "metadata": {},
   "source": [
    "# Package is  the collection of modules"
   ]
  },
  {
   "cell_type": "markdown",
   "id": "41d4abb8",
   "metadata": {},
   "source": [
    "# modules is the collection of functions"
   ]
  },
  {
   "cell_type": "markdown",
   "id": "e6c92332",
   "metadata": {},
   "source": [
    "# functions are of two types inbuilt function and user defined function"
   ]
  },
  {
   "cell_type": "code",
   "execution_count": 11,
   "id": "943f81c4",
   "metadata": {},
   "outputs": [
    {
     "data": {
      "text/plain": [
       "5.0"
      ]
     },
     "execution_count": 11,
     "metadata": {},
     "output_type": "execute_result"
    }
   ],
   "source": [
    "import math \n",
    "x = math.sqrt(25)\n",
    "x"
   ]
  },
  {
   "cell_type": "code",
   "execution_count": 12,
   "id": "93be97ed",
   "metadata": {},
   "outputs": [
    {
     "name": "stdout",
     "output_type": "stream",
     "text": [
      "31.359999999999996\n"
     ]
    }
   ],
   "source": [
    "import math as m\n",
    "y = m.pow(5.6,2)\n",
    "print(y)"
   ]
  },
  {
   "cell_type": "code",
   "execution_count": 13,
   "id": "66c6b8a1",
   "metadata": {},
   "outputs": [
    {
     "name": "stdout",
     "output_type": "stream",
     "text": [
      "10.0\n",
      "531441.0\n",
      "5\n",
      "6\n"
     ]
    }
   ],
   "source": [
    "from math import sqrt,pow,floor,ceil\n",
    "print(sqrt(100))\n",
    "print(pow(9,6))\n",
    "print(floor(5.789))\n",
    "print(ceil(5.7890))"
   ]
  },
  {
   "cell_type": "markdown",
   "id": "970fc713",
   "metadata": {},
   "source": [
    "# we can call all the functions at once :: from  math import * "
   ]
  },
  {
   "cell_type": "markdown",
   "id": "f7b8768a",
   "metadata": {},
   "source": [
    "# input () is used to read the input as string defined by user"
   ]
  },
  {
   "cell_type": "code",
   "execution_count": 16,
   "id": "bd79fa94",
   "metadata": {},
   "outputs": [
    {
     "name": "stdout",
     "output_type": "stream",
     "text": [
      "45\n"
     ]
    }
   ],
   "source": [
    "x1 = input('Enter the 1st number') #whenevery you works in input function it always give you string \n",
    "y1 = input('Enter the 2nd number') # it wont understand as arithmetic operator\n",
    "z1 = x1 + y1\n",
    "print(z1)"
   ]
  },
  {
   "cell_type": "code",
   "execution_count": 17,
   "id": "3e859df4",
   "metadata": {},
   "outputs": [
    {
     "data": {
      "text/plain": [
       "91"
      ]
     },
     "execution_count": 17,
     "metadata": {},
     "output_type": "execute_result"
    }
   ],
   "source": [
    "x2 = int(input('Enter the 1st number'))\n",
    "y2 = int(input('Enter the 2nd number'))\n",
    "z2 = x2 + y2\n",
    "z2"
   ]
  },
  {
   "cell_type": "code",
   "execution_count": 18,
   "id": "4fbf3d8b",
   "metadata": {},
   "outputs": [
    {
     "name": "stdout",
     "output_type": "stream",
     "text": [
      "artificial intelligence\n",
      "a\n",
      "r\n",
      "t\n",
      "ifici\n"
     ]
    }
   ],
   "source": [
    "ch = input('enter a char')\n",
    "print(ch)\n",
    "print(ch[0])\n",
    "print(ch[1])\n",
    "print(ch[2])\n",
    "print(ch[3:8])\n"
   ]
  },
  {
   "cell_type": "code",
   "execution_count": 19,
   "id": "f12256e4",
   "metadata": {},
   "outputs": [
    {
     "name": "stdout",
     "output_type": "stream",
     "text": [
      "el\n"
     ]
    }
   ],
   "source": [
    "ch = input('enter a char')[1:3]\n",
    "print(ch)"
   ]
  },
  {
   "cell_type": "code",
   "execution_count": 25,
   "id": "b7231e72",
   "metadata": {},
   "outputs": [
    {
     "name": "stdout",
     "output_type": "stream",
     "text": [
      "2*8+6-2\n"
     ]
    }
   ],
   "source": [
    "result = (input('enter an expr'))\n",
    "print(result)"
   ]
  },
  {
   "cell_type": "code",
   "execution_count": 27,
   "id": "91582daa",
   "metadata": {},
   "outputs": [
    {
     "name": "stdout",
     "output_type": "stream",
     "text": [
      "2172\n"
     ]
    }
   ],
   "source": [
    "result=eval(input('enter the expression'))\n",
    "print(result)"
   ]
  }
 ],
 "metadata": {
  "kernelspec": {
   "display_name": "Python 3",
   "language": "python",
   "name": "python3"
  },
  "language_info": {
   "codemirror_mode": {
    "name": "ipython",
    "version": 3
   },
   "file_extension": ".py",
   "mimetype": "text/x-python",
   "name": "python",
   "nbconvert_exporter": "python",
   "pygments_lexer": "ipython3",
   "version": "3.12.7"
  }
 },
 "nbformat": 4,
 "nbformat_minor": 5
}
