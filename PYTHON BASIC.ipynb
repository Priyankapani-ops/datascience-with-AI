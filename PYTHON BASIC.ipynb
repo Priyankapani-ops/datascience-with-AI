{
 "cells": [
  {
   "cell_type": "markdown",
   "id": "3b9c97ea-eff9-4bc5-a9b9-c56042f55aaf",
   "metadata": {},
   "source": [
    "# MULTIPLICATION"
   ]
  },
  {
   "cell_type": "code",
   "execution_count": 1,
   "id": "acbf4028-52e4-43c4-ba90-05824dcea2c0",
   "metadata": {},
   "outputs": [
    {
     "data": {
      "text/plain": [
       "12"
      ]
     },
     "execution_count": 1,
     "metadata": {},
     "output_type": "execute_result"
    }
   ],
   "source": [
    "3*4"
   ]
  },
  {
   "cell_type": "code",
   "execution_count": 2,
   "id": "ec5de348-afc3-4bb5-8094-54eae9e893ad",
   "metadata": {},
   "outputs": [
    {
     "data": {
      "text/plain": [
       "2904"
      ]
     },
     "execution_count": 2,
     "metadata": {},
     "output_type": "execute_result"
    }
   ],
   "source": [
    "a=88\n",
    "b=33\n",
    "a*b"
   ]
  },
  {
   "cell_type": "markdown",
   "id": "0fd79a0a-bf21-4c57-aeba-2bddddc8b96d",
   "metadata": {},
   "source": [
    "# ADDITION"
   ]
  },
  {
   "cell_type": "code",
   "execution_count": 3,
   "id": "f5dcc8b4-cdb6-4084-9d76-d4a530ec4e74",
   "metadata": {},
   "outputs": [
    {
     "data": {
      "text/plain": [
       "119"
      ]
     },
     "execution_count": 3,
     "metadata": {},
     "output_type": "execute_result"
    }
   ],
   "source": [
    "54 +65"
   ]
  },
  {
   "cell_type": "markdown",
   "id": "63ba02f9-d572-446a-b75a-4de063370201",
   "metadata": {},
   "source": [
    "# SUBTRACTION"
   ]
  },
  {
   "cell_type": "code",
   "execution_count": 4,
   "id": "00bb14df-a0e6-4581-9552-f8e5961b3154",
   "metadata": {},
   "outputs": [
    {
     "data": {
      "text/plain": [
       "34"
      ]
     },
     "execution_count": 4,
     "metadata": {},
     "output_type": "execute_result"
    }
   ],
   "source": [
    "100-66"
   ]
  },
  {
   "cell_type": "markdown",
   "id": "a227409d-7e4b-4822-b1d7-b4bff1f999f8",
   "metadata": {},
   "source": [
    "# FLOAT DIVISION"
   ]
  },
  {
   "cell_type": "code",
   "execution_count": 5,
   "id": "0e78a8e8-dae8-414c-9598-6ac8812dbf7c",
   "metadata": {},
   "outputs": [
    {
     "data": {
      "text/plain": [
       "22.0"
      ]
     },
     "execution_count": 5,
     "metadata": {},
     "output_type": "execute_result"
    }
   ],
   "source": [
    "66/3"
   ]
  },
  {
   "cell_type": "markdown",
   "id": "71a586d9-0dbb-4bc9-be1f-3214db0974f0",
   "metadata": {},
   "source": [
    "# INTEGER DIVISION"
   ]
  },
  {
   "cell_type": "code",
   "execution_count": 6,
   "id": "e9baa4f3-fb7b-4a45-83b2-f097e252c97b",
   "metadata": {},
   "outputs": [
    {
     "data": {
      "text/plain": [
       "22"
      ]
     },
     "execution_count": 6,
     "metadata": {},
     "output_type": "execute_result"
    }
   ],
   "source": [
    "66//3"
   ]
  },
  {
   "cell_type": "markdown",
   "id": "f9b20c6e-cfaa-4734-95c2-c3e4cd5d6b71",
   "metadata": {},
   "source": [
    "# MODULAR DIVISION"
   ]
  },
  {
   "cell_type": "code",
   "execution_count": 7,
   "id": "9de81e1a-57aa-4489-a345-8da7e637a447",
   "metadata": {},
   "outputs": [
    {
     "data": {
      "text/plain": [
       "0"
      ]
     },
     "execution_count": 7,
     "metadata": {},
     "output_type": "execute_result"
    }
   ],
   "source": [
    "45%5"
   ]
  },
  {
   "cell_type": "code",
   "execution_count": 8,
   "id": "db2f4ff3-b720-4f24-b253-7a880efb589a",
   "metadata": {},
   "outputs": [
    {
     "data": {
      "text/plain": [
       "1"
      ]
     },
     "execution_count": 8,
     "metadata": {},
     "output_type": "execute_result"
    }
   ],
   "source": [
    "46%5"
   ]
  },
  {
   "cell_type": "markdown",
   "id": "a2729390-db69-465e-927b-ad8bed085a00",
   "metadata": {},
   "source": [
    "# INTEGER + STRING"
   ]
  },
  {
   "cell_type": "code",
   "execution_count": 9,
   "id": "c297b819-f3d0-413d-bf6f-5613f4019fba",
   "metadata": {},
   "outputs": [
    {
     "ename": "TypeError",
     "evalue": "unsupported operand type(s) for +: 'int' and 'str'",
     "output_type": "error",
     "traceback": [
      "\u001b[1;31m---------------------------------------------------------------------------\u001b[0m",
      "\u001b[1;31mTypeError\u001b[0m                                 Traceback (most recent call last)",
      "Cell \u001b[1;32mIn[9], line 1\u001b[0m\n\u001b[1;32m----> 1\u001b[0m \u001b[38;5;241m5\u001b[39m \u001b[38;5;241m+\u001b[39m \u001b[38;5;124m'\u001b[39m\u001b[38;5;124mnit\u001b[39m\u001b[38;5;124m'\u001b[39m\n",
      "\u001b[1;31mTypeError\u001b[0m: unsupported operand type(s) for +: 'int' and 'str'"
     ]
    }
   ],
   "source": [
    "5 + 'nit'"
   ]
  },
  {
   "cell_type": "code",
   "execution_count": 10,
   "id": "f62df6b8-ba71-4fff-9723-6d614516cfa0",
   "metadata": {},
   "outputs": [
    {
     "ename": "TypeError",
     "evalue": "unsupported operand type(s) for +: 'int' and 'str'",
     "output_type": "error",
     "traceback": [
      "\u001b[1;31m---------------------------------------------------------------------------\u001b[0m",
      "\u001b[1;31mTypeError\u001b[0m                                 Traceback (most recent call last)",
      "Cell \u001b[1;32mIn[10], line 1\u001b[0m\n\u001b[1;32m----> 1\u001b[0m \u001b[38;5;241m5\u001b[39m \u001b[38;5;241m+\u001b[39m \u001b[38;5;124m'\u001b[39m\u001b[38;5;124m5\u001b[39m\u001b[38;5;124m'\u001b[39m\n",
      "\u001b[1;31mTypeError\u001b[0m: unsupported operand type(s) for +: 'int' and 'str'"
     ]
    }
   ],
   "source": [
    "5 + '5'"
   ]
  },
  {
   "cell_type": "markdown",
   "id": "22c06539-7e55-462c-95d5-e66c6dc01044",
   "metadata": {},
   "source": [
    "# INTEGER * STRING"
   ]
  },
  {
   "cell_type": "code",
   "execution_count": 11,
   "id": "b11b4404-a886-46f5-9ec8-0aedebad38ce",
   "metadata": {},
   "outputs": [
    {
     "data": {
      "text/plain": [
       "'nitnitnitnit'"
      ]
     },
     "execution_count": 11,
     "metadata": {},
     "output_type": "execute_result"
    }
   ],
   "source": [
    "4* 'nit'"
   ]
  },
  {
   "cell_type": "code",
   "execution_count": 12,
   "id": "254977fd-f5ea-455b-bf6e-e6583a60de49",
   "metadata": {},
   "outputs": [
    {
     "data": {
      "text/plain": [
       "' nit  nit  nit  nit '"
      ]
     },
     "execution_count": 12,
     "metadata": {},
     "output_type": "execute_result"
    }
   ],
   "source": [
    "4 * ' nit '"
   ]
  },
  {
   "cell_type": "markdown",
   "id": "d06e44d0-1c31-4a42-b985-d3a18d39235b",
   "metadata": {},
   "source": [
    "# STRING + STRING"
   ]
  },
  {
   "cell_type": "code",
   "execution_count": 14,
   "id": "5bcabb95-8283-4ef8-9951-a703b361c200",
   "metadata": {},
   "outputs": [
    {
     "data": {
      "text/plain": [
       "'NITNIT'"
      ]
     },
     "execution_count": 14,
     "metadata": {},
     "output_type": "execute_result"
    }
   ],
   "source": [
    "'NIT' + 'NIT'"
   ]
  },
  {
   "cell_type": "code",
   "execution_count": 15,
   "id": "2741ff4a-b94e-413a-8351-686928401d21",
   "metadata": {},
   "outputs": [
    {
     "data": {
      "text/plain": [
       "'nitnit'"
      ]
     },
     "execution_count": 15,
     "metadata": {},
     "output_type": "execute_result"
    }
   ],
   "source": [
    "'nit'  'nit'"
   ]
  },
  {
   "cell_type": "code",
   "execution_count": 16,
   "id": "21058d54-dc4e-4af5-9900-a93c1a7d1a1c",
   "metadata": {},
   "outputs": [
    {
     "name": "stdout",
     "output_type": "stream",
     "text": [
      "nitnit\n"
     ]
    }
   ],
   "source": [
    "print('nit' 'nit')"
   ]
  },
  {
   "cell_type": "markdown",
   "id": "38e6b33a-bee1-48a8-a431-1aea2468be2a",
   "metadata": {},
   "source": [
    "# MULTILINE STRING"
   ]
  },
  {
   "cell_type": "code",
   "execution_count": 17,
   "id": "d171e66e-3e66-4417-8406-8a17b83424f9",
   "metadata": {},
   "outputs": [
    {
     "data": {
      "text/plain": [
       "\"hello world, welcome to 'PYTHON'\""
      ]
     },
     "execution_count": 17,
     "metadata": {},
     "output_type": "execute_result"
    }
   ],
   "source": [
    "\"hello world, welcome to 'PYTHON'\""
   ]
  },
  {
   "cell_type": "code",
   "execution_count": 19,
   "id": "ecb97ab3-c962-4eca-98a4-34208b67a7f8",
   "metadata": {},
   "outputs": [
    {
     "data": {
      "text/plain": [
       "'Wow it\\'s a beautiful \"ROSE\" '"
      ]
     },
     "execution_count": 19,
     "metadata": {},
     "output_type": "execute_result"
    }
   ],
   "source": [
    "\"\"\"Wow it's a beautiful \"ROSE\" \"\"\""
   ]
  },
  {
   "cell_type": "markdown",
   "id": "1eee6cbd-3f9b-4829-ace3-2f2990aa5d02",
   "metadata": {},
   "source": [
    "# RAW STRING"
   ]
  },
  {
   "cell_type": "code",
   "execution_count": 20,
   "id": "66bbb3ab-e0ff-4fd7-9074-3bdd5d5fcb7d",
   "metadata": {},
   "outputs": [
    {
     "name": "stdout",
     "output_type": "stream",
     "text": [
      "c:\n",
      "it\n"
     ]
    }
   ],
   "source": [
    "print('c:\\nit') # it will print in next line"
   ]
  },
  {
   "cell_type": "code",
   "execution_count": 21,
   "id": "24188b40-7139-49ba-be93-456c65241e33",
   "metadata": {},
   "outputs": [
    {
     "name": "stdout",
     "output_type": "stream",
     "text": [
      "c:\\nit\n"
     ]
    }
   ],
   "source": [
    "print(r'c:\\nit') #raw string means it detect the path location"
   ]
  },
  {
   "cell_type": "markdown",
   "id": "f4deed17-a8ef-425a-baa6-508a22190818",
   "metadata": {},
   "source": [
    "# CAN WE ADD VARIABLE TO STRING"
   ]
  },
  {
   "cell_type": "code",
   "execution_count": 22,
   "id": "44df6fa3-3fae-48c1-9774-07a49baddb26",
   "metadata": {},
   "outputs": [
    {
     "name": "stdout",
     "output_type": "stream",
     "text": [
      "nittechnology\n"
     ]
    }
   ],
   "source": [
    "s1 = \"nit\"\n",
    "s = s1+ \"technology\"\n",
    "print(s)"
   ]
  },
  {
   "cell_type": "code",
   "execution_count": 23,
   "id": "c578cd99-0fc6-4c26-a043-ed54b2d75e38",
   "metadata": {},
   "outputs": [
    {
     "name": "stdout",
     "output_type": "stream",
     "text": [
      "nit technology\n"
     ]
    }
   ],
   "source": [
    "print(s1,'technology')"
   ]
  },
  {
   "cell_type": "code",
   "execution_count": 24,
   "id": "c3bcc59a-11eb-4010-9625-f3f6436035fb",
   "metadata": {},
   "outputs": [
    {
     "ename": "SyntaxError",
     "evalue": "invalid syntax (3058791232.py, line 1)",
     "output_type": "error",
     "traceback": [
      "\u001b[1;36m  Cell \u001b[1;32mIn[24], line 1\u001b[1;36m\u001b[0m\n\u001b[1;33m    print(s1 'technology')\u001b[0m\n\u001b[1;37m             ^\u001b[0m\n\u001b[1;31mSyntaxError\u001b[0m\u001b[1;31m:\u001b[0m invalid syntax\n"
     ]
    }
   ],
   "source": [
    "print(s1 'technology')"
   ]
  },
  {
   "cell_type": "code",
   "execution_count": 25,
   "id": "d3d476c4-f37a-440c-9ca3-989f6db0f9de",
   "metadata": {},
   "outputs": [
    {
     "name": "stdout",
     "output_type": "stream",
     "text": [
      "nittechnology\n"
     ]
    }
   ],
   "source": [
    "print('nit' 'technology')"
   ]
  },
  {
   "cell_type": "markdown",
   "id": "d220479c-9300-4f0f-8bc0-0b0640ce365d",
   "metadata": {},
   "source": [
    "# STRING IS IMMUTABLE"
   ]
  },
  {
   "cell_type": "code",
   "execution_count": 26,
   "id": "7960ade1-db76-4a3c-a642-4f2293d10141",
   "metadata": {},
   "outputs": [
    {
     "data": {
      "text/plain": [
       "'nittechnology'"
      ]
     },
     "execution_count": 26,
     "metadata": {},
     "output_type": "execute_result"
    }
   ],
   "source": [
    "s"
   ]
  },
  {
   "cell_type": "code",
   "execution_count": 27,
   "id": "dc2c85c8-22fa-481f-bdea-c5712d5ef950",
   "metadata": {},
   "outputs": [
    {
     "data": {
      "text/plain": [
       "'n'"
      ]
     },
     "execution_count": 27,
     "metadata": {},
     "output_type": "execute_result"
    }
   ],
   "source": [
    "s[0]"
   ]
  },
  {
   "cell_type": "code",
   "execution_count": 28,
   "id": "48039251-35bb-42a4-b625-cd550657bf9a",
   "metadata": {},
   "outputs": [
    {
     "ename": "TypeError",
     "evalue": "'str' object does not support item assignment",
     "output_type": "error",
     "traceback": [
      "\u001b[1;31m---------------------------------------------------------------------------\u001b[0m",
      "\u001b[1;31mTypeError\u001b[0m                                 Traceback (most recent call last)",
      "Cell \u001b[1;32mIn[28], line 1\u001b[0m\n\u001b[1;32m----> 1\u001b[0m s[\u001b[38;5;241m0\u001b[39m]\u001b[38;5;241m=\u001b[39m \u001b[38;5;124m'\u001b[39m\u001b[38;5;124mi\u001b[39m\u001b[38;5;124m'\u001b[39m\n",
      "\u001b[1;31mTypeError\u001b[0m: 'str' object does not support item assignment"
     ]
    }
   ],
   "source": [
    "s[0]= 'i'"
   ]
  },
  {
   "cell_type": "code",
   "execution_count": 29,
   "id": "980c3782-c5c9-4551-b70a-a445bff7dd21",
   "metadata": {},
   "outputs": [
    {
     "name": "stdout",
     "output_type": "stream",
     "text": [
      "iittechnology\n"
     ]
    }
   ],
   "source": [
    "a= 'i' + s[1:]\n",
    "print(a)"
   ]
  },
  {
   "cell_type": "markdown",
   "id": "a8d98056-ce0a-4123-80fc-062b190fd591",
   "metadata": {},
   "source": [
    "# HELP FUNCTION"
   ]
  },
  {
   "cell_type": "code",
   "execution_count": 30,
   "id": "3f7df9d9-0a2d-4e7c-957e-0d3e6da4b6b9",
   "metadata": {},
   "outputs": [
    {
     "name": "stdout",
     "output_type": "stream",
     "text": [
      "Welcome to Python 3.12's help utility! If this is your first time using\n",
      "Python, you should definitely check out the tutorial at\n",
      "https://docs.python.org/3.12/tutorial/.\n",
      "\n",
      "Enter the name of any module, keyword, or topic to get help on writing\n",
      "Python programs and using Python modules.  To get a list of available\n",
      "modules, keywords, symbols, or topics, enter \"modules\", \"keywords\",\n",
      "\"symbols\", or \"topics\".\n",
      "\n",
      "Each module also comes with a one-line summary of what it does; to list\n",
      "the modules whose name or summary contain a given string such as \"spam\",\n",
      "enter \"modules spam\".\n",
      "\n",
      "To quit this help utility and return to the interpreter,\n",
      "enter \"q\" or \"quit\".\n",
      "\n"
     ]
    },
    {
     "name": "stdin",
     "output_type": "stream",
     "text": [
      "help>  keywords\n"
     ]
    },
    {
     "name": "stdout",
     "output_type": "stream",
     "text": [
      "\n",
      "Here is a list of the Python keywords.  Enter any keyword to get more help.\n",
      "\n",
      "False               class               from                or\n",
      "None                continue            global              pass\n",
      "True                def                 if                  raise\n",
      "and                 del                 import              return\n",
      "as                  elif                in                  try\n",
      "assert              else                is                  while\n",
      "async               except              lambda              with\n",
      "await               finally             nonlocal            yield\n",
      "break               for                 not                 \n",
      "\n"
     ]
    },
    {
     "name": "stdin",
     "output_type": "stream",
     "text": [
      "help>  q\n"
     ]
    },
    {
     "name": "stdout",
     "output_type": "stream",
     "text": [
      "\n",
      "You are now leaving help and returning to the Python interpreter.\n",
      "If you want to ask for help on a particular object directly from the\n",
      "interpreter, you can type \"help(object)\".  Executing \"help('string')\"\n",
      "has the same effect as typing a particular string at the help> prompt.\n"
     ]
    }
   ],
   "source": [
    "help()\n"
   ]
  },
  {
   "cell_type": "markdown",
   "id": "57b854cf-8a5a-46b8-aa2d-8821bad1802d",
   "metadata": {},
   "source": [
    "# IN PYTHON THERE IS NO CONSTANT , ALL ARE VARIABLES"
   ]
  },
  {
   "cell_type": "markdown",
   "id": "52ad5d1a-4d27-4fb1-8460-aa8306a26e63",
   "metadata": {},
   "source": [
    "\n",
    "\n",
    "\n",
    "\n",
    "# RANGE"
   ]
  },
  {
   "cell_type": "code",
   "execution_count": 31,
   "id": "7a9654ff-2e71-4baf-9471-f883b78fded5",
   "metadata": {},
   "outputs": [
    {
     "data": {
      "text/plain": [
       "range(0, 10)"
      ]
     },
     "execution_count": 31,
     "metadata": {},
     "output_type": "execute_result"
    }
   ],
   "source": [
    "range(0,10)"
   ]
  },
  {
   "cell_type": "code",
   "execution_count": 32,
   "id": "7e952a21-deb6-4de4-b332-a61c98d83a37",
   "metadata": {},
   "outputs": [
    {
     "name": "stdout",
     "output_type": "stream",
     "text": [
      "range(0, 10)\n"
     ]
    }
   ],
   "source": [
    "print(range(0,10))"
   ]
  },
  {
   "cell_type": "code",
   "execution_count": 33,
   "id": "d0ae752c-a3e7-4556-b7aa-974c24dd6010",
   "metadata": {},
   "outputs": [
    {
     "data": {
      "text/plain": [
       "[0, 1, 2, 3, 4, 5, 6, 7, 8, 9]"
      ]
     },
     "execution_count": 33,
     "metadata": {},
     "output_type": "execute_result"
    }
   ],
   "source": [
    "list(range(0,10))"
   ]
  },
  {
   "cell_type": "code",
   "execution_count": 34,
   "id": "4bf54b8f-b1f0-4edc-86f4-d08622929dbd",
   "metadata": {},
   "outputs": [
    {
     "data": {
      "text/plain": [
       "[0,\n",
       " 1,\n",
       " 2,\n",
       " 3,\n",
       " 4,\n",
       " 5,\n",
       " 6,\n",
       " 7,\n",
       " 8,\n",
       " 9,\n",
       " 10,\n",
       " 11,\n",
       " 12,\n",
       " 13,\n",
       " 14,\n",
       " 15,\n",
       " 16,\n",
       " 17,\n",
       " 18,\n",
       " 19,\n",
       " 20,\n",
       " 21,\n",
       " 22,\n",
       " 23,\n",
       " 24,\n",
       " 25,\n",
       " 26,\n",
       " 27,\n",
       " 28,\n",
       " 29,\n",
       " 30,\n",
       " 31,\n",
       " 32,\n",
       " 33,\n",
       " 34,\n",
       " 35,\n",
       " 36,\n",
       " 37,\n",
       " 38,\n",
       " 39,\n",
       " 40,\n",
       " 41,\n",
       " 42,\n",
       " 43,\n",
       " 44,\n",
       " 45,\n",
       " 46,\n",
       " 47,\n",
       " 48,\n",
       " 49]"
      ]
     },
     "execution_count": 34,
     "metadata": {},
     "output_type": "execute_result"
    }
   ],
   "source": [
    "list(range(50))"
   ]
  },
  {
   "cell_type": "code",
   "execution_count": 35,
   "id": "2d83c4cc-3bb9-4d7e-adde-6c2ebd9cce5d",
   "metadata": {},
   "outputs": [
    {
     "data": {
      "text/plain": [
       "[5, 10, 15, 20, 25, 30, 35, 40, 45, 50, 55, 60, 65, 70, 75, 80, 85, 90, 95]"
      ]
     },
     "execution_count": 35,
     "metadata": {},
     "output_type": "execute_result"
    }
   ],
   "source": [
    "list(range(5,100,5))"
   ]
  },
  {
   "cell_type": "code",
   "execution_count": null,
   "id": "6c5d5a57-f918-4131-b828-419ee39103b2",
   "metadata": {},
   "outputs": [],
   "source": [
    "# range takes maximum 3 arguments"
   ]
  }
 ],
 "metadata": {
  "kernelspec": {
   "display_name": "Python [conda env:base] *",
   "language": "python",
   "name": "conda-base-py"
  },
  "language_info": {
   "codemirror_mode": {
    "name": "ipython",
    "version": 3
   },
   "file_extension": ".py",
   "mimetype": "text/x-python",
   "name": "python",
   "nbconvert_exporter": "python",
   "pygments_lexer": "ipython3",
   "version": "3.12.7"
  }
 },
 "nbformat": 4,
 "nbformat_minor": 5
}
