{
 "cells": [
  {
   "cell_type": "markdown",
   "id": "52daf74a-c5e5-42d3-a6f3-a344f09a2ef6",
   "metadata": {},
   "source": [
    "# PYTHON NUMBER SYSTEM"
   ]
  },
  {
   "cell_type": "markdown",
   "id": "6fb4e29a-8edd-4f51-ad0c-5bab6fd5ef72",
   "metadata": {},
   "source": [
    "# 1. binary"
   ]
  },
  {
   "cell_type": "code",
   "execution_count": 1,
   "id": "df0ff5d3-3e4a-4d42-92c1-7b9b70f75fef",
   "metadata": {},
   "outputs": [
    {
     "data": {
      "text/plain": [
       "'0b11001'"
      ]
     },
     "execution_count": 1,
     "metadata": {},
     "output_type": "execute_result"
    }
   ],
   "source": [
    "bin(25)"
   ]
  },
  {
   "cell_type": "code",
   "execution_count": 2,
   "id": "0572ea04-758b-4dbb-921f-68d20ebd2889",
   "metadata": {},
   "outputs": [
    {
     "data": {
      "text/plain": [
       "'0b1100100'"
      ]
     },
     "execution_count": 2,
     "metadata": {},
     "output_type": "execute_result"
    }
   ],
   "source": [
    "bin(100)"
   ]
  },
  {
   "cell_type": "code",
   "execution_count": 3,
   "id": "e53ab564-8e44-4a2d-9bde-b815e83a5ad5",
   "metadata": {},
   "outputs": [
    {
     "data": {
      "text/plain": [
       "'0b101001101'"
      ]
     },
     "execution_count": 3,
     "metadata": {},
     "output_type": "execute_result"
    }
   ],
   "source": [
    "bin(333)"
   ]
  },
  {
   "cell_type": "code",
   "execution_count": 4,
   "id": "abce721d-eda0-4a1f-a8cb-55f11a283bcc",
   "metadata": {},
   "outputs": [
    {
     "data": {
      "text/plain": [
       "25"
      ]
     },
     "execution_count": 4,
     "metadata": {},
     "output_type": "execute_result"
    }
   ],
   "source": [
    "int(0b11001)"
   ]
  },
  {
   "cell_type": "code",
   "execution_count": 5,
   "id": "65266d44-a642-48a3-b922-177bd4127491",
   "metadata": {},
   "outputs": [
    {
     "data": {
      "text/plain": [
       "100"
      ]
     },
     "execution_count": 5,
     "metadata": {},
     "output_type": "execute_result"
    }
   ],
   "source": [
    "int(0b1100100)\n"
   ]
  },
  {
   "cell_type": "markdown",
   "id": "e38b8e5e-a1e3-4e3d-97cb-0f631f604b48",
   "metadata": {},
   "source": [
    "# 2. octal"
   ]
  },
  {
   "cell_type": "code",
   "execution_count": 6,
   "id": "076172cf-71ee-4d84-a874-3d16c76b023c",
   "metadata": {},
   "outputs": [
    {
     "data": {
      "text/plain": [
       "'0o31'"
      ]
     },
     "execution_count": 6,
     "metadata": {},
     "output_type": "execute_result"
    }
   ],
   "source": [
    "oct(25)"
   ]
  },
  {
   "cell_type": "code",
   "execution_count": 7,
   "id": "94e4f606-8508-4056-ac6c-99e98582279d",
   "metadata": {},
   "outputs": [
    {
     "data": {
      "text/plain": [
       "'0o144'"
      ]
     },
     "execution_count": 7,
     "metadata": {},
     "output_type": "execute_result"
    }
   ],
   "source": [
    "oct(100)"
   ]
  },
  {
   "cell_type": "code",
   "execution_count": 8,
   "id": "877b11ed-d69c-421e-b36b-3fcb62354ea7",
   "metadata": {},
   "outputs": [
    {
     "data": {
      "text/plain": [
       "100"
      ]
     },
     "execution_count": 8,
     "metadata": {},
     "output_type": "execute_result"
    }
   ],
   "source": [
    "int(0o144)"
   ]
  },
  {
   "cell_type": "markdown",
   "id": "3b659d63-96ad-4081-8210-92690ee9a1c0",
   "metadata": {},
   "source": [
    "# 3. Decimal"
   ]
  },
  {
   "cell_type": "markdown",
   "id": "16b57ac0-e7c2-4662-9233-2af1e3ee9690",
   "metadata": {},
   "source": [
    "# 0x - 0 1 2 3 4 5 6 7 8 9"
   ]
  },
  {
   "cell_type": "markdown",
   "id": "c20eccb3-9281-4897-a74c-a229742c5eb6",
   "metadata": {},
   "source": [
    "# 4. Hexa decimal"
   ]
  },
  {
   "cell_type": "code",
   "execution_count": 4,
   "id": "e03d8654-c314-45a4-abce-56886d7b124f",
   "metadata": {},
   "outputs": [
    {
     "data": {
      "text/plain": [
       "'0x1e'"
      ]
     },
     "execution_count": 4,
     "metadata": {},
     "output_type": "execute_result"
    }
   ],
   "source": [
    "hex(30)"
   ]
  },
  {
   "cell_type": "code",
   "execution_count": 5,
   "id": "0c41f790-18bb-43b2-95a0-9fc06bb70dd4",
   "metadata": {},
   "outputs": [
    {
     "data": {
      "text/plain": [
       "'0xa'"
      ]
     },
     "execution_count": 5,
     "metadata": {},
     "output_type": "execute_result"
    }
   ],
   "source": [
    "hex(10)"
   ]
  },
  {
   "cell_type": "code",
   "execution_count": 6,
   "id": "e13702eb-431d-4eea-9fbb-7439f3a45d73",
   "metadata": {},
   "outputs": [
    {
     "data": {
      "text/plain": [
       "'0x162e'"
      ]
     },
     "execution_count": 6,
     "metadata": {},
     "output_type": "execute_result"
    }
   ],
   "source": [
    "hex(5678)"
   ]
  },
  {
   "cell_type": "code",
   "execution_count": 7,
   "id": "d9d40fad-823d-4e07-aa43-b96c4bf43b2b",
   "metadata": {},
   "outputs": [
    {
     "data": {
      "text/plain": [
       "'0x60'"
      ]
     },
     "execution_count": 7,
     "metadata": {},
     "output_type": "execute_result"
    }
   ],
   "source": [
    "hex(96)"
   ]
  },
  {
   "cell_type": "code",
   "execution_count": null,
   "id": "784dfda5-edde-4211-85fb-60c3cbbd4da4",
   "metadata": {},
   "outputs": [],
   "source": []
  }
 ],
 "metadata": {
  "kernelspec": {
   "display_name": "Python [conda env:base] *",
   "language": "python",
   "name": "conda-base-py"
  },
  "language_info": {
   "codemirror_mode": {
    "name": "ipython",
    "version": 3
   },
   "file_extension": ".py",
   "mimetype": "text/x-python",
   "name": "python",
   "nbconvert_exporter": "python",
   "pygments_lexer": "ipython3",
   "version": "3.12.7"
  }
 },
 "nbformat": 4,
 "nbformat_minor": 5
}
