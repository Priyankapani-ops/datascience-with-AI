{
 "cells": [
  {
   "cell_type": "code",
   "execution_count": 3,
   "id": "b3d70940",
   "metadata": {},
   "outputs": [
    {
     "name": "stdout",
     "output_type": "stream",
     "text": [
      "<class 'tuple'>\n"
     ]
    }
   ],
   "source": [
    "t =()\n",
    "print(type(t))"
   ]
  },
  {
   "cell_type": "code",
   "execution_count": null,
   "id": "7af767c8",
   "metadata": {},
   "outputs": [
    {
     "ename": "AttributeError",
     "evalue": "'tuple' object has no attribute 'append'",
     "output_type": "error",
     "traceback": [
      "\u001b[1;31m---------------------------------------------------------------------------\u001b[0m",
      "\u001b[1;31mAttributeError\u001b[0m                            Traceback (most recent call last)",
      "Cell \u001b[1;32mIn[5], line 2\u001b[0m\n\u001b[0;32m      1\u001b[0m t1 \u001b[38;5;241m=\u001b[39m(\u001b[38;5;241m10\u001b[39m,\u001b[38;5;241m20\u001b[39m,\u001b[38;5;241m30\u001b[39m)\n\u001b[1;32m----> 2\u001b[0m t1\u001b[38;5;241m.\u001b[39mappend(\u001b[38;5;241m40\u001b[39m)\n\u001b[0;32m      3\u001b[0m \u001b[38;5;28mprint\u001b[39m(t1)\n",
      "\u001b[1;31mAttributeError\u001b[0m: 'tuple' object has no attribute 'append'"
     ]
    }
   ],
   "source": [
    "t1 =(10,20,30)\n",
    "t1.append(40)\n",
    "print(t1)      # tuple has no append function"
   ]
  },
  {
   "cell_type": "code",
   "execution_count": null,
   "id": "bc3b29ed",
   "metadata": {},
   "outputs": [
    {
     "name": "stdout",
     "output_type": "stream",
     "text": [
      "('maya', 25, 'AI Developer', 0.5, True)\n"
     ]
    }
   ],
   "source": [
    "t2 = ('maya', 25, 'AI Developer',0.5,True)\n",
    "print(t2) # mixed datatypes are allowed"
   ]
  },
  {
   "cell_type": "code",
   "execution_count": null,
   "id": "f48be11e",
   "metadata": {},
   "outputs": [
    {
     "ename": "TypeError",
     "evalue": "'tuple' object does not support item assignment",
     "output_type": "error",
     "traceback": [
      "\u001b[1;31m---------------------------------------------------------------------------\u001b[0m",
      "\u001b[1;31mTypeError\u001b[0m                                 Traceback (most recent call last)",
      "Cell \u001b[1;32mIn[7], line 1\u001b[0m\n\u001b[1;32m----> 1\u001b[0m t2[\u001b[38;5;241m0\u001b[39m] \u001b[38;5;241m=\u001b[39m \u001b[38;5;124m'\u001b[39m\u001b[38;5;124mriya\u001b[39m\u001b[38;5;124m'\u001b[39m\n\u001b[0;32m      2\u001b[0m \u001b[38;5;28mprint\u001b[39m(t2)\n",
      "\u001b[1;31mTypeError\u001b[0m: 'tuple' object does not support item assignment"
     ]
    }
   ],
   "source": [
    "t2[0] = 'riya'\n",
    "print(t2)  # tuple is immutable"
   ]
  },
  {
   "cell_type": "code",
   "execution_count": 13,
   "id": "df3cd062",
   "metadata": {},
   "outputs": [
    {
     "name": "stdout",
     "output_type": "stream",
     "text": [
      "(10, 20, 30, 'maya', 25, 'AI Developer', 0.5, True)\n",
      "('maya', 25, 'AI Developer', 0.5, True, 'maya', 25, 'AI Developer', 0.5, True, 'maya', 25, 'AI Developer', 0.5, True)\n",
      "(10, 20, 30, 40, 50, 60)\n"
     ]
    }
   ],
   "source": [
    "t5=(40,50,60)\n",
    "t3= t1+t2\n",
    "t4 = t2 * 3\n",
    "t6 = t1+t5\n",
    "print(t3)\n",
    "print(t4)\n",
    "print(t6)"
   ]
  },
  {
   "cell_type": "code",
   "execution_count": 14,
   "id": "166b9441",
   "metadata": {},
   "outputs": [
    {
     "ename": "AttributeError",
     "evalue": "'tuple' object has no attribute 'clear'",
     "output_type": "error",
     "traceback": [
      "\u001b[1;31m---------------------------------------------------------------------------\u001b[0m",
      "\u001b[1;31mAttributeError\u001b[0m                            Traceback (most recent call last)",
      "Cell \u001b[1;32mIn[14], line 1\u001b[0m\n\u001b[1;32m----> 1\u001b[0m t2\u001b[38;5;241m.\u001b[39mclear()\n\u001b[0;32m      2\u001b[0m \u001b[38;5;28mprint\u001b[39m(t2)\n",
      "\u001b[1;31mAttributeError\u001b[0m: 'tuple' object has no attribute 'clear'"
     ]
    }
   ],
   "source": [
    "t2.clear()\n",
    "print(t2)"
   ]
  }
 ],
 "metadata": {
  "kernelspec": {
   "display_name": "base",
   "language": "python",
   "name": "python3"
  },
  "language_info": {
   "codemirror_mode": {
    "name": "ipython",
    "version": 3
   },
   "file_extension": ".py",
   "mimetype": "text/x-python",
   "name": "python",
   "nbconvert_exporter": "python",
   "pygments_lexer": "ipython3",
   "version": "3.12.7"
  }
 },
 "nbformat": 4,
 "nbformat_minor": 5
}
