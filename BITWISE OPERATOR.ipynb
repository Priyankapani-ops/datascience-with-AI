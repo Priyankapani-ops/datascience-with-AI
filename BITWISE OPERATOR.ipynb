{
 "cells": [
  {
   "cell_type": "markdown",
   "id": "6d615b39-b10a-4175-86d5-64fbfe3201d4",
   "metadata": {},
   "source": [
    "# complement"
   ]
  },
  {
   "cell_type": "code",
   "execution_count": 1,
   "id": "a0f3468c-d26a-4c93-b1c9-bda396239472",
   "metadata": {},
   "outputs": [
    {
     "data": {
      "text/plain": [
       "-55"
      ]
     },
     "execution_count": 1,
     "metadata": {},
     "output_type": "execute_result"
    }
   ],
   "source": [
    "~54 #1's complement +1"
   ]
  },
  {
   "cell_type": "code",
   "execution_count": 2,
   "id": "48a525fd-2e4d-42be-8c5d-de0bc05d7764",
   "metadata": {},
   "outputs": [
    {
     "data": {
      "text/plain": [
       "-80"
      ]
     },
     "execution_count": 2,
     "metadata": {},
     "output_type": "execute_result"
    }
   ],
   "source": [
    "~79"
   ]
  },
  {
   "cell_type": "code",
   "execution_count": 3,
   "id": "b68957a5-c65d-444a-bec2-74532050bf01",
   "metadata": {},
   "outputs": [
    {
     "data": {
      "text/plain": [
       "-2346"
      ]
     },
     "execution_count": 3,
     "metadata": {},
     "output_type": "execute_result"
    }
   ],
   "source": [
    "~2345"
   ]
  },
  {
   "cell_type": "markdown",
   "id": "22371c5f-20f8-4178-bc69-7b96e5787acc",
   "metadata": {},
   "source": [
    "# and"
   ]
  },
  {
   "cell_type": "code",
   "execution_count": 22,
   "id": "8a8a63d4-e7a5-4e5e-ae70-4d16fb89deec",
   "metadata": {},
   "outputs": [
    {
     "data": {
      "text/plain": [
       "12"
      ]
     },
     "execution_count": 22,
     "metadata": {},
     "output_type": "execute_result"
    }
   ],
   "source": [
    "13 & 14   # 1 and 1 is 1, others are 0"
   ]
  },
  {
   "cell_type": "code",
   "execution_count": 5,
   "id": "8bb95b10-cd74-4e7c-b3af-5d2c50be9b5d",
   "metadata": {},
   "outputs": [
    {
     "data": {
      "text/plain": [
       "74"
      ]
     },
     "execution_count": 5,
     "metadata": {},
     "output_type": "execute_result"
    }
   ],
   "source": [
    "78 & 75"
   ]
  },
  {
   "cell_type": "markdown",
   "id": "e780eb83-70e4-4838-86a8-1cbea39ef3af",
   "metadata": {},
   "source": [
    "# or"
   ]
  },
  {
   "cell_type": "code",
   "execution_count": 23,
   "id": "ae18f254-5052-4bb2-9c4a-ee2d6db08d01",
   "metadata": {},
   "outputs": [
    {
     "data": {
      "text/plain": [
       "45"
      ]
     },
     "execution_count": 23,
     "metadata": {},
     "output_type": "execute_result"
    }
   ],
   "source": [
    "45 or 33    # 0 or 0 is 0 others are 1"
   ]
  },
  {
   "cell_type": "code",
   "execution_count": 12,
   "id": "21074600-4c55-4f94-bf0b-95087b9aa01e",
   "metadata": {},
   "outputs": [
    {
     "data": {
      "text/plain": [
       "True"
      ]
     },
     "execution_count": 12,
     "metadata": {},
     "output_type": "execute_result"
    }
   ],
   "source": [
    "False | True"
   ]
  },
  {
   "cell_type": "code",
   "execution_count": 13,
   "id": "b89ee25f-dc53-4294-8842-c3e23e70158e",
   "metadata": {},
   "outputs": [
    {
     "data": {
      "text/plain": [
       "3"
      ]
     },
     "execution_count": 13,
     "metadata": {},
     "output_type": "execute_result"
    }
   ],
   "source": [
    "3 | True"
   ]
  },
  {
   "cell_type": "markdown",
   "id": "aa560f55-2acf-40a1-a0df-3fc775c5bc8d",
   "metadata": {},
   "source": [
    "# xor"
   ]
  },
  {
   "cell_type": "code",
   "execution_count": 9,
   "id": "5dd241ff-f1e8-4c94-b66d-93e1165c7a61",
   "metadata": {},
   "outputs": [
    {
     "data": {
      "text/plain": [
       "47"
      ]
     },
     "execution_count": 9,
     "metadata": {},
     "output_type": "execute_result"
    }
   ],
   "source": [
    "23 ^ 56"
   ]
  },
  {
   "cell_type": "code",
   "execution_count": 10,
   "id": "1e6cf800-4988-495b-a11a-5cb48a5448a1",
   "metadata": {},
   "outputs": [
    {
     "data": {
      "text/plain": [
       "14"
      ]
     },
     "execution_count": 10,
     "metadata": {},
     "output_type": "execute_result"
    }
   ],
   "source": [
    "6 ^ 8"
   ]
  },
  {
   "cell_type": "code",
   "execution_count": 11,
   "id": "1d601390-e9fa-4a53-aba2-41bb4b0a8d93",
   "metadata": {},
   "outputs": [
    {
     "data": {
      "text/plain": [
       "3"
      ]
     },
     "execution_count": 11,
     "metadata": {},
     "output_type": "execute_result"
    }
   ],
   "source": [
    "9 ^ 10"
   ]
  },
  {
   "cell_type": "markdown",
   "id": "1a434165-802b-47e2-91f4-a05ebc09adcd",
   "metadata": {},
   "source": [
    "# left shift"
   ]
  },
  {
   "cell_type": "code",
   "execution_count": 14,
   "id": "cc75c21e-c0c4-46b9-a1d7-00b530bf19f1",
   "metadata": {},
   "outputs": [
    {
     "data": {
      "text/plain": [
       "20"
      ]
     },
     "execution_count": 14,
     "metadata": {},
     "output_type": "execute_result"
    }
   ],
   "source": [
    "10 << 1"
   ]
  },
  {
   "cell_type": "code",
   "execution_count": 15,
   "id": "8d9a93c8-e962-429a-aedc-f2b0356a6ff3",
   "metadata": {},
   "outputs": [
    {
     "data": {
      "text/plain": [
       "40"
      ]
     },
     "execution_count": 15,
     "metadata": {},
     "output_type": "execute_result"
    }
   ],
   "source": [
    "10 << 2"
   ]
  },
  {
   "cell_type": "code",
   "execution_count": 16,
   "id": "1edc0102-8159-4231-9755-2558f022ba30",
   "metadata": {},
   "outputs": [
    {
     "data": {
      "text/plain": [
       "80"
      ]
     },
     "execution_count": 16,
     "metadata": {},
     "output_type": "execute_result"
    }
   ],
   "source": [
    "10 << 3"
   ]
  },
  {
   "cell_type": "code",
   "execution_count": 17,
   "id": "01195e8d-7ed9-4b64-975a-1c42241909d9",
   "metadata": {},
   "outputs": [
    {
     "data": {
      "text/plain": [
       "96"
      ]
     },
     "execution_count": 17,
     "metadata": {},
     "output_type": "execute_result"
    }
   ],
   "source": [
    "12 << 3"
   ]
  },
  {
   "cell_type": "markdown",
   "id": "4e87b89b-cb0f-44a9-8b8e-e85e607e8360",
   "metadata": {},
   "source": [
    "# right shift"
   ]
  },
  {
   "cell_type": "code",
   "execution_count": 18,
   "id": "9169dfde-8f06-4dae-8856-1b82fec2fc63",
   "metadata": {},
   "outputs": [
    {
     "data": {
      "text/plain": [
       "5"
      ]
     },
     "execution_count": 18,
     "metadata": {},
     "output_type": "execute_result"
    }
   ],
   "source": [
    "10 >> 1"
   ]
  },
  {
   "cell_type": "code",
   "execution_count": 19,
   "id": "7bee77e2-7486-4c9a-9ae0-de17f140a308",
   "metadata": {},
   "outputs": [
    {
     "data": {
      "text/plain": [
       "2"
      ]
     },
     "execution_count": 19,
     "metadata": {},
     "output_type": "execute_result"
    }
   ],
   "source": [
    "10 >> 2"
   ]
  },
  {
   "cell_type": "code",
   "execution_count": 20,
   "id": "e5d68a51-c53a-4149-bdc9-9162f9cf1e2d",
   "metadata": {},
   "outputs": [
    {
     "data": {
      "text/plain": [
       "1"
      ]
     },
     "execution_count": 20,
     "metadata": {},
     "output_type": "execute_result"
    }
   ],
   "source": [
    "10 >> 3"
   ]
  },
  {
   "cell_type": "code",
   "execution_count": null,
   "id": "1a39d487-031b-43cb-a0cb-bff8055c3c6e",
   "metadata": {},
   "outputs": [],
   "source": []
  }
 ],
 "metadata": {
  "kernelspec": {
   "display_name": "Python [conda env:base] *",
   "language": "python",
   "name": "conda-base-py"
  },
  "language_info": {
   "codemirror_mode": {
    "name": "ipython",
    "version": 3
   },
   "file_extension": ".py",
   "mimetype": "text/x-python",
   "name": "python",
   "nbconvert_exporter": "python",
   "pygments_lexer": "ipython3",
   "version": "3.12.7"
  }
 },
 "nbformat": 4,
 "nbformat_minor": 5
}
