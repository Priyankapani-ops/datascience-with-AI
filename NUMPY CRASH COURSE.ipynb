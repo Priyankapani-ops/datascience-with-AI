{
 "cells": [
  {
   "cell_type": "markdown",
   "id": "67b686af",
   "metadata": {},
   "source": [
    "# numpy"
   ]
  },
  {
   "cell_type": "code",
   "execution_count": 3,
   "id": "c0c449e9",
   "metadata": {},
   "outputs": [
    {
     "data": {
      "text/plain": [
       "array([[0.37604531, 0.8141629 , 0.70476037, 0.31811524],\n",
       "       [0.2839419 , 0.43786084, 0.67515101, 0.75686557],\n",
       "       [0.14930698, 0.26872099, 0.32456241, 0.2060718 ]])"
      ]
     },
     "execution_count": 3,
     "metadata": {},
     "output_type": "execute_result"
    }
   ],
   "source": [
    "import numpy as np\n",
    "np.random.rand(3,4)"
   ]
  },
  {
   "cell_type": "code",
   "execution_count": 4,
   "id": "b6c7b27a",
   "metadata": {},
   "outputs": [
    {
     "data": {
      "text/plain": [
       "array([[0.20493276, 0.8393857 , 0.58897356, 0.55035256, 0.6506237 ],\n",
       "       [0.64861959, 0.91259351, 0.65740387, 0.61065988, 0.03780063]])"
      ]
     },
     "execution_count": 4,
     "metadata": {},
     "output_type": "execute_result"
    }
   ],
   "source": [
    "np.random.rand(2,5)"
   ]
  },
  {
   "cell_type": "code",
   "execution_count": null,
   "id": "168c8781",
   "metadata": {},
   "outputs": [
    {
     "data": {
      "text/plain": [
       "1"
      ]
     },
     "execution_count": 12,
     "metadata": {},
     "output_type": "execute_result"
    }
   ],
   "source": [
    "np.random.randint(1,6) # it will print any value between 1 to 6"
   ]
  },
  {
   "cell_type": "code",
   "execution_count": 14,
   "id": "68381d26",
   "metadata": {},
   "outputs": [
    {
     "data": {
      "text/plain": [
       "array([17,  5, 15, 14, 15])"
      ]
     },
     "execution_count": 14,
     "metadata": {},
     "output_type": "execute_result"
    }
   ],
   "source": [
    "np.random.randint(2,20,5) # it print any five numbers between 2 to 20"
   ]
  },
  {
   "cell_type": "code",
   "execution_count": 15,
   "id": "3a9d407e",
   "metadata": {},
   "outputs": [
    {
     "data": {
      "text/plain": [
       "array([[11, 38, 31, 36, 21, 33, 27, 15, 36, 11],\n",
       "       [37, 25, 11, 27, 25, 19, 13, 25, 27, 14],\n",
       "       [11, 32, 31, 24, 11, 13, 30, 21, 31, 38],\n",
       "       [22, 30, 35, 17, 25, 14, 13, 33, 34, 23],\n",
       "       [20, 17, 13, 34, 21, 36, 13, 39, 34, 18],\n",
       "       [27, 32, 11, 39, 14, 12, 27, 20, 25, 12],\n",
       "       [30, 10, 16, 18, 12, 25, 29, 16, 32, 34],\n",
       "       [15, 29, 16, 25, 34, 39, 29, 39, 12, 33],\n",
       "       [30, 29, 15, 28, 13, 38, 26, 33, 16, 30],\n",
       "       [11, 33, 33, 38, 11, 15, 16, 38, 24, 12]])"
      ]
     },
     "execution_count": 15,
     "metadata": {},
     "output_type": "execute_result"
    }
   ],
   "source": [
    "np.random.randint(10,40,(10,10))"
   ]
  },
  {
   "cell_type": "code",
   "execution_count": 29,
   "id": "67d6c90e",
   "metadata": {},
   "outputs": [
    {
     "data": {
      "text/plain": [
       "array([[12,  4,  8, 10, 13, 13, 13,  6,  2, 18],\n",
       "       [ 1,  2, 13, 15, 12, 16,  9, 18, 19, 13],\n",
       "       [ 1,  5, 13, 12, 19, 19, 11, 11,  3,  6],\n",
       "       [14,  4,  3,  2,  6,  4, 12, 13, 11,  3],\n",
       "       [19,  3, 14, 14, 10,  6, 18,  5, 11, 11],\n",
       "       [ 4, 18,  6, 12, 11, 10,  4, 17, 18, 12],\n",
       "       [11, 16,  2,  4,  5, 11, 17,  2, 10, 15],\n",
       "       [ 7, 19, 15, 19, 11, 14,  3, 19,  6, 17],\n",
       "       [ 5,  6,  2,  9, 10,  5, 11, 18, 16, 13],\n",
       "       [ 5,  6,  3, 19,  4,  6,  6, 14, 15, 17]])"
      ]
     },
     "execution_count": 29,
     "metadata": {},
     "output_type": "execute_result"
    }
   ],
   "source": [
    "m1 =np.random.randint(1,20,(10,10)) \n",
    "m1  #print numbers between 1 to 20 in 10 * 10 matrix"
   ]
  },
  {
   "cell_type": "code",
   "execution_count": 22,
   "id": "32dfd2fb",
   "metadata": {},
   "outputs": [
    {
     "data": {
      "text/plain": [
       "array([0, 1, 2, 3, 4, 5])"
      ]
     },
     "execution_count": 22,
     "metadata": {},
     "output_type": "execute_result"
    }
   ],
   "source": [
    "l = [0,1,2,3,4,5]\n",
    "arr=np.array(l)\n",
    "arr"
   ]
  },
  {
   "cell_type": "code",
   "execution_count": 23,
   "id": "5421d079",
   "metadata": {},
   "outputs": [
    {
     "data": {
      "text/plain": [
       "array([[0, 1, 2, 3, 4, 5]])"
      ]
     },
     "execution_count": 23,
     "metadata": {},
     "output_type": "execute_result"
    }
   ],
   "source": [
    "arr.reshape(1,6)"
   ]
  },
  {
   "cell_type": "code",
   "execution_count": 27,
   "id": "c3b6d37b",
   "metadata": {},
   "outputs": [
    {
     "data": {
      "text/plain": [
       "array([[0, 1, 2],\n",
       "       [3, 4, 5]])"
      ]
     },
     "execution_count": 27,
     "metadata": {},
     "output_type": "execute_result"
    }
   ],
   "source": [
    "arr.reshape(2,3)"
   ]
  },
  {
   "cell_type": "code",
   "execution_count": 30,
   "id": "1429346b",
   "metadata": {},
   "outputs": [
    {
     "data": {
      "text/plain": [
       "array([[12,  4,  8, 10, 13, 13, 13,  6,  2, 18],\n",
       "       [ 1,  2, 13, 15, 12, 16,  9, 18, 19, 13],\n",
       "       [ 1,  5, 13, 12, 19, 19, 11, 11,  3,  6],\n",
       "       [14,  4,  3,  2,  6,  4, 12, 13, 11,  3],\n",
       "       [19,  3, 14, 14, 10,  6, 18,  5, 11, 11],\n",
       "       [ 4, 18,  6, 12, 11, 10,  4, 17, 18, 12],\n",
       "       [11, 16,  2,  4,  5, 11, 17,  2, 10, 15],\n",
       "       [ 7, 19, 15, 19, 11, 14,  3, 19,  6, 17],\n",
       "       [ 5,  6,  2,  9, 10,  5, 11, 18, 16, 13],\n",
       "       [ 5,  6,  3, 19,  4,  6,  6, 14, 15, 17]])"
      ]
     },
     "execution_count": 30,
     "metadata": {},
     "output_type": "execute_result"
    }
   ],
   "source": [
    "m1"
   ]
  },
  {
   "cell_type": "code",
   "execution_count": null,
   "id": "77db1b20",
   "metadata": {},
   "outputs": [
    {
     "data": {
      "text/plain": [
       "array([[12,  4,  8, 10],\n",
       "       [13, 13, 13,  6],\n",
       "       [ 2, 18,  1,  2],\n",
       "       [13, 15, 12, 16],\n",
       "       [ 9, 18, 19, 13],\n",
       "       [ 1,  5, 13, 12],\n",
       "       [19, 19, 11, 11],\n",
       "       [ 3,  6, 14,  4],\n",
       "       [ 3,  2,  6,  4],\n",
       "       [12, 13, 11,  3],\n",
       "       [19,  3, 14, 14],\n",
       "       [10,  6, 18,  5],\n",
       "       [11, 11,  4, 18],\n",
       "       [ 6, 12, 11, 10],\n",
       "       [ 4, 17, 18, 12],\n",
       "       [11, 16,  2,  4],\n",
       "       [ 5, 11, 17,  2],\n",
       "       [10, 15,  7, 19],\n",
       "       [15, 19, 11, 14],\n",
       "       [ 3, 19,  6, 17],\n",
       "       [ 5,  6,  2,  9],\n",
       "       [10,  5, 11, 18],\n",
       "       [16, 13,  5,  6],\n",
       "       [ 3, 19,  4,  6],\n",
       "       [ 6, 14, 15, 17]])"
      ]
     },
     "execution_count": 33,
     "metadata": {},
     "output_type": "execute_result"
    }
   ],
   "source": [
    "m1.reshape(25,4) # it will reshape the matrix but it should contain same number of elements..25*4=100"
   ]
  },
  {
   "cell_type": "code",
   "execution_count": 34,
   "id": "0e4a8a19",
   "metadata": {},
   "outputs": [
    {
     "data": {
      "text/plain": [
       "array([[ 2,  9, 12, 12,  8],\n",
       "       [18,  7,  8,  9,  2],\n",
       "       [ 2,  4,  4, 14,  9],\n",
       "       [16, 13, 11, 11, 11],\n",
       "       [11, 17,  1,  7, 15]])"
      ]
     },
     "execution_count": 34,
     "metadata": {},
     "output_type": "execute_result"
    }
   ],
   "source": [
    "s1=np.random.randint(1,20,(5,5))\n",
    "s1"
   ]
  },
  {
   "cell_type": "code",
   "execution_count": 52,
   "id": "f6e218af",
   "metadata": {},
   "outputs": [
    {
     "data": {
      "text/plain": [
       "array([[ 2,  9, 12, 12,  8],\n",
       "       [18,  7,  8,  9,  2],\n",
       "       [ 2,  4,  4, 14,  9],\n",
       "       [16, 13, 11, 11, 11],\n",
       "       [11, 17,  1,  7, 15]])"
      ]
     },
     "execution_count": 52,
     "metadata": {},
     "output_type": "execute_result"
    }
   ],
   "source": [
    "# SLICING\n",
    "s1[:]"
   ]
  },
  {
   "cell_type": "code",
   "execution_count": 37,
   "id": "e70f2172",
   "metadata": {},
   "outputs": [
    {
     "data": {
      "text/plain": [
       "array([[ 2,  4,  4, 14,  9]])"
      ]
     },
     "execution_count": 37,
     "metadata": {},
     "output_type": "execute_result"
    }
   ],
   "source": [
    "s1[2:3]"
   ]
  },
  {
   "cell_type": "code",
   "execution_count": 38,
   "id": "e2eb7ac4",
   "metadata": {},
   "outputs": [
    {
     "data": {
      "text/plain": [
       "array([[16, 13, 11, 11, 11],\n",
       "       [11, 17,  1,  7, 15]])"
      ]
     },
     "execution_count": 38,
     "metadata": {},
     "output_type": "execute_result"
    }
   ],
   "source": [
    "s1[3:6]"
   ]
  },
  {
   "cell_type": "code",
   "execution_count": 40,
   "id": "0c3c722c",
   "metadata": {},
   "outputs": [
    {
     "data": {
      "text/plain": [
       "array([[16, 13, 11, 11, 11],\n",
       "       [11, 17,  1,  7, 15]])"
      ]
     },
     "execution_count": 40,
     "metadata": {},
     "output_type": "execute_result"
    }
   ],
   "source": [
    "s1[3:5]"
   ]
  },
  {
   "cell_type": "code",
   "execution_count": 41,
   "id": "33749c39",
   "metadata": {},
   "outputs": [
    {
     "data": {
      "text/plain": [
       "array([[18,  7,  8,  9,  2],\n",
       "       [ 2,  4,  4, 14,  9],\n",
       "       [16, 13, 11, 11, 11]])"
      ]
     },
     "execution_count": 41,
     "metadata": {},
     "output_type": "execute_result"
    }
   ],
   "source": [
    "s1[1:4]"
   ]
  },
  {
   "cell_type": "code",
   "execution_count": 42,
   "id": "128ce61b",
   "metadata": {},
   "outputs": [
    {
     "data": {
      "text/plain": [
       "array([[ 2,  4,  4, 14,  9],\n",
       "       [16, 13, 11, 11, 11],\n",
       "       [11, 17,  1,  7, 15]])"
      ]
     },
     "execution_count": 42,
     "metadata": {},
     "output_type": "execute_result"
    }
   ],
   "source": [
    "s1[2:5]"
   ]
  },
  {
   "cell_type": "code",
   "execution_count": 43,
   "id": "e018df81",
   "metadata": {},
   "outputs": [
    {
     "data": {
      "text/plain": [
       "array([[11, 17,  1,  7, 15]])"
      ]
     },
     "execution_count": 43,
     "metadata": {},
     "output_type": "execute_result"
    }
   ],
   "source": [
    "s1[-1:]"
   ]
  },
  {
   "cell_type": "code",
   "execution_count": 46,
   "id": "dbf22d9b",
   "metadata": {},
   "outputs": [
    {
     "data": {
      "text/plain": [
       "array([[18,  7,  8,  9,  2],\n",
       "       [ 2,  4,  4, 14,  9],\n",
       "       [16, 13, 11, 11, 11]])"
      ]
     },
     "execution_count": 46,
     "metadata": {},
     "output_type": "execute_result"
    }
   ],
   "source": [
    "s1[-4:-1]"
   ]
  },
  {
   "cell_type": "code",
   "execution_count": 47,
   "id": "83bace8c",
   "metadata": {},
   "outputs": [
    {
     "data": {
      "text/plain": [
       "array([[ 2,  9, 12, 12,  8],\n",
       "       [18,  7,  8,  9,  2],\n",
       "       [ 2,  4,  4, 14,  9],\n",
       "       [16, 13, 11, 11, 11]])"
      ]
     },
     "execution_count": 47,
     "metadata": {},
     "output_type": "execute_result"
    }
   ],
   "source": [
    "s1[:-1]"
   ]
  },
  {
   "cell_type": "code",
   "execution_count": 49,
   "id": "fe165930",
   "metadata": {},
   "outputs": [
    {
     "data": {
      "text/plain": [
       "array([[ 2,  9, 12, 12,  8],\n",
       "       [18,  7,  8,  9,  2],\n",
       "       [ 2,  4,  4, 14,  9],\n",
       "       [16, 13, 11, 11, 11],\n",
       "       [11, 17,  1,  7, 15]])"
      ]
     },
     "execution_count": 49,
     "metadata": {},
     "output_type": "execute_result"
    }
   ],
   "source": [
    "s1"
   ]
  },
  {
   "cell_type": "code",
   "execution_count": 50,
   "id": "15426a14",
   "metadata": {},
   "outputs": [
    {
     "data": {
      "text/plain": [
       "array([[18,  7,  8,  9,  2],\n",
       "       [ 2,  4,  4, 14,  9]])"
      ]
     },
     "execution_count": 50,
     "metadata": {},
     "output_type": "execute_result"
    }
   ],
   "source": [
    "s1[1:3]"
   ]
  },
  {
   "cell_type": "code",
   "execution_count": 51,
   "id": "0ae61d86",
   "metadata": {},
   "outputs": [
    {
     "data": {
      "text/plain": [
       "array([[18,  7,  8,  9,  2],\n",
       "       [ 2,  4,  4, 14,  9],\n",
       "       [16, 13, 11, 11, 11]])"
      ]
     },
     "execution_count": 51,
     "metadata": {},
     "output_type": "execute_result"
    }
   ],
   "source": [
    "s1[1:-1]"
   ]
  },
  {
   "cell_type": "code",
   "execution_count": 53,
   "id": "c819d168",
   "metadata": {},
   "outputs": [],
   "source": [
    "# PRINT SPECIFIC NUMBER"
   ]
  },
  {
   "cell_type": "code",
   "execution_count": 54,
   "id": "42dfc7ec",
   "metadata": {},
   "outputs": [
    {
     "data": {
      "text/plain": [
       "array([[ 2,  9, 12, 12,  8],\n",
       "       [18,  7,  8,  9,  2],\n",
       "       [ 2,  4,  4, 14,  9],\n",
       "       [16, 13, 11, 11, 11],\n",
       "       [11, 17,  1,  7, 15]])"
      ]
     },
     "execution_count": 54,
     "metadata": {},
     "output_type": "execute_result"
    }
   ],
   "source": [
    "s1"
   ]
  },
  {
   "cell_type": "code",
   "execution_count": 55,
   "id": "c6788f64",
   "metadata": {},
   "outputs": [
    {
     "data": {
      "text/plain": [
       "9"
      ]
     },
     "execution_count": 55,
     "metadata": {},
     "output_type": "execute_result"
    }
   ],
   "source": [
    "s1[1,3]"
   ]
  },
  {
   "cell_type": "code",
   "execution_count": 56,
   "id": "c94aea12",
   "metadata": {},
   "outputs": [
    {
     "data": {
      "text/plain": [
       "15"
      ]
     },
     "execution_count": 56,
     "metadata": {},
     "output_type": "execute_result"
    }
   ],
   "source": [
    "s1[-1,4]"
   ]
  },
  {
   "cell_type": "code",
   "execution_count": 57,
   "id": "59c7f8e6",
   "metadata": {},
   "outputs": [
    {
     "data": {
      "text/plain": [
       "17"
      ]
     },
     "execution_count": 57,
     "metadata": {},
     "output_type": "execute_result"
    }
   ],
   "source": [
    "s1[-1,-4]"
   ]
  },
  {
   "cell_type": "code",
   "execution_count": 58,
   "id": "de3be33e",
   "metadata": {},
   "outputs": [
    {
     "data": {
      "text/plain": [
       "11"
      ]
     },
     "execution_count": 58,
     "metadata": {},
     "output_type": "execute_result"
    }
   ],
   "source": [
    "s1[-2,-3]"
   ]
  },
  {
   "cell_type": "code",
   "execution_count": 59,
   "id": "54ac9b22",
   "metadata": {},
   "outputs": [
    {
     "data": {
      "text/plain": [
       "array([16, 13, 11, 11, 11])"
      ]
     },
     "execution_count": 59,
     "metadata": {},
     "output_type": "execute_result"
    }
   ],
   "source": [
    "s1[-2]"
   ]
  },
  {
   "cell_type": "code",
   "execution_count": 63,
   "id": "3140db60",
   "metadata": {},
   "outputs": [
    {
     "data": {
      "text/plain": [
       "array([[ 2,  9, 12, 12,  8],\n",
       "       [18,  7,  8,  9,  2],\n",
       "       [ 2,  4,  4, 14,  9]])"
      ]
     },
     "execution_count": 63,
     "metadata": {},
     "output_type": "execute_result"
    }
   ],
   "source": [
    "s1[:-2]"
   ]
  },
  {
   "cell_type": "code",
   "execution_count": 65,
   "id": "4f4ccfb7",
   "metadata": {},
   "outputs": [
    {
     "data": {
      "text/plain": [
       "array([[11, 17,  1,  7, 15],\n",
       "       [16, 13, 11, 11, 11],\n",
       "       [ 2,  4,  4, 14,  9],\n",
       "       [18,  7,  8,  9,  2],\n",
       "       [ 2,  9, 12, 12,  8]])"
      ]
     },
     "execution_count": 65,
     "metadata": {},
     "output_type": "execute_result"
    }
   ],
   "source": [
    "s1[::-1]"
   ]
  },
  {
   "cell_type": "code",
   "execution_count": 66,
   "id": "88fa5a4c",
   "metadata": {},
   "outputs": [
    {
     "data": {
      "text/plain": [
       "array([[11, 17,  1,  7, 15],\n",
       "       [ 2,  4,  4, 14,  9],\n",
       "       [ 2,  9, 12, 12,  8]])"
      ]
     },
     "execution_count": 66,
     "metadata": {},
     "output_type": "execute_result"
    }
   ],
   "source": [
    "s1[::-2]"
   ]
  },
  {
   "cell_type": "code",
   "execution_count": 67,
   "id": "26b02a09",
   "metadata": {},
   "outputs": [
    {
     "data": {
      "text/plain": [
       "array([[ 2,  9, 12, 12,  8],\n",
       "       [18,  7,  8,  9,  2],\n",
       "       [ 2,  4,  4, 14,  9],\n",
       "       [16, 13, 11, 11, 11],\n",
       "       [11, 17,  1,  7, 15]])"
      ]
     },
     "execution_count": 67,
     "metadata": {},
     "output_type": "execute_result"
    }
   ],
   "source": [
    "s1"
   ]
  },
  {
   "cell_type": "code",
   "execution_count": 68,
   "id": "07324b78",
   "metadata": {},
   "outputs": [
    {
     "data": {
      "text/plain": [
       "array([[18,  7,  8,  9,  2],\n",
       "       [16, 13, 11, 11, 11]])"
      ]
     },
     "execution_count": 68,
     "metadata": {},
     "output_type": "execute_result"
    }
   ],
   "source": [
    "s1[1:4:2]"
   ]
  },
  {
   "cell_type": "code",
   "execution_count": 69,
   "id": "6c19e1fd",
   "metadata": {},
   "outputs": [
    {
     "data": {
      "text/plain": [
       "18"
      ]
     },
     "execution_count": 69,
     "metadata": {},
     "output_type": "execute_result"
    }
   ],
   "source": [
    "s1.max()"
   ]
  },
  {
   "cell_type": "code",
   "execution_count": 70,
   "id": "f0ceee53",
   "metadata": {},
   "outputs": [
    {
     "data": {
      "text/plain": [
       "1"
      ]
     },
     "execution_count": 70,
     "metadata": {},
     "output_type": "execute_result"
    }
   ],
   "source": [
    "s1.min()"
   ]
  },
  {
   "cell_type": "code",
   "execution_count": 71,
   "id": "13c50e9c",
   "metadata": {},
   "outputs": [
    {
     "data": {
      "text/plain": [
       "9.32"
      ]
     },
     "execution_count": 71,
     "metadata": {},
     "output_type": "execute_result"
    }
   ],
   "source": [
    "s1.mean()"
   ]
  },
  {
   "cell_type": "code",
   "execution_count": 72,
   "id": "75ef7b0c",
   "metadata": {},
   "outputs": [
    {
     "data": {
      "text/plain": [
       "9.0"
      ]
     },
     "execution_count": 72,
     "metadata": {},
     "output_type": "execute_result"
    }
   ],
   "source": [
    "from numpy import*\n",
    "median(s1)"
   ]
  },
  {
   "cell_type": "code",
   "execution_count": 73,
   "id": "b7ff36e0",
   "metadata": {},
   "outputs": [
    {
     "data": {
      "text/plain": [
       "array([[12,  4,  8, 10, 13, 13, 13,  6,  2, 18],\n",
       "       [ 1,  2, 13, 15, 12, 16,  9, 18, 19, 13],\n",
       "       [ 1,  5, 13, 12, 19, 19, 11, 11,  3,  6],\n",
       "       [14,  4,  3,  2,  6,  4, 12, 13, 11,  3],\n",
       "       [19,  3, 14, 14, 10,  6, 18,  5, 11, 11],\n",
       "       [ 4, 18,  6, 12, 11, 10,  4, 17, 18, 12],\n",
       "       [11, 16,  2,  4,  5, 11, 17,  2, 10, 15],\n",
       "       [ 7, 19, 15, 19, 11, 14,  3, 19,  6, 17],\n",
       "       [ 5,  6,  2,  9, 10,  5, 11, 18, 16, 13],\n",
       "       [ 5,  6,  3, 19,  4,  6,  6, 14, 15, 17]])"
      ]
     },
     "execution_count": 73,
     "metadata": {},
     "output_type": "execute_result"
    }
   ],
   "source": [
    "m1"
   ]
  },
  {
   "cell_type": "code",
   "execution_count": 74,
   "id": "3f72504b",
   "metadata": {},
   "outputs": [],
   "source": [
    "row = 4\n",
    "col = 5 # variables declared"
   ]
  },
  {
   "cell_type": "code",
   "execution_count": null,
   "id": "588a4c27",
   "metadata": {},
   "outputs": [
    {
     "data": {
      "text/plain": [
       "array([ 1,  2, 13, 15, 12, 16,  9, 18, 19, 13])"
      ]
     },
     "execution_count": 75,
     "metadata": {},
     "output_type": "execute_result"
    }
   ],
   "source": [
    "m1[1] #specific row"
   ]
  },
  {
   "cell_type": "code",
   "execution_count": null,
   "id": "f2943a8b",
   "metadata": {},
   "outputs": [
    {
     "data": {
      "text/plain": [
       "array([13, 16, 19,  4,  6, 10, 11, 14,  5,  6])"
      ]
     },
     "execution_count": 76,
     "metadata": {},
     "output_type": "execute_result"
    }
   ],
   "source": [
    "m1[:,col] # specific column"
   ]
  },
  {
   "cell_type": "code",
   "execution_count": 77,
   "id": "ce398e40",
   "metadata": {},
   "outputs": [
    {
     "data": {
      "text/plain": [
       "array([13, 12, 19,  6, 10, 11,  5, 11, 10,  4])"
      ]
     },
     "execution_count": 77,
     "metadata": {},
     "output_type": "execute_result"
    }
   ],
   "source": [
    "m1[:,row]"
   ]
  },
  {
   "cell_type": "code",
   "execution_count": 78,
   "id": "f3bffb34",
   "metadata": {},
   "outputs": [
    {
     "data": {
      "text/plain": [
       "array([[ 5,  6,  3, 19,  4,  6,  6, 14, 15, 17],\n",
       "       [ 7, 19, 15, 19, 11, 14,  3, 19,  6, 17],\n",
       "       [ 4, 18,  6, 12, 11, 10,  4, 17, 18, 12],\n",
       "       [14,  4,  3,  2,  6,  4, 12, 13, 11,  3],\n",
       "       [ 1,  2, 13, 15, 12, 16,  9, 18, 19, 13]])"
      ]
     },
     "execution_count": 78,
     "metadata": {},
     "output_type": "execute_result"
    }
   ],
   "source": [
    "m1[::-2]"
   ]
  },
  {
   "cell_type": "code",
   "execution_count": 79,
   "id": "e7f3cf24",
   "metadata": {},
   "outputs": [
    {
     "data": {
      "text/plain": [
       "array([[12,  4,  8, 10, 13, 13, 13,  6,  2, 18],\n",
       "       [ 1,  2, 13, 15, 12, 16,  9, 18, 19, 13],\n",
       "       [ 1,  5, 13, 12, 19, 19, 11, 11,  3,  6],\n",
       "       [14,  4,  3,  2,  6,  4, 12, 13, 11,  3],\n",
       "       [19,  3, 14, 14, 10,  6, 18,  5, 11, 11],\n",
       "       [ 4, 18,  6, 12, 11, 10,  4, 17, 18, 12],\n",
       "       [11, 16,  2,  4,  5, 11, 17,  2, 10, 15],\n",
       "       [ 7, 19, 15, 19, 11, 14,  3, 19,  6, 17],\n",
       "       [ 5,  6,  2,  9, 10,  5, 11, 18, 16, 13],\n",
       "       [ 5,  6,  3, 19,  4,  6,  6, 14, 15, 17]])"
      ]
     },
     "execution_count": 79,
     "metadata": {},
     "output_type": "execute_result"
    }
   ],
   "source": [
    "m1"
   ]
  },
  {
   "cell_type": "code",
   "execution_count": 82,
   "id": "5be5ddc8",
   "metadata": {},
   "outputs": [
    {
     "data": {
      "text/plain": [
       "array([[19, 19, 11]])"
      ]
     },
     "execution_count": 82,
     "metadata": {},
     "output_type": "execute_result"
    }
   ],
   "source": [
    "m1[2:3,4:7]"
   ]
  },
  {
   "cell_type": "code",
   "execution_count": 83,
   "id": "cc3f2ff4",
   "metadata": {},
   "outputs": [
    {
     "data": {
      "text/plain": [
       "array([[13, 12],\n",
       "       [ 3,  2],\n",
       "       [14, 14],\n",
       "       [ 6, 12]])"
      ]
     },
     "execution_count": 83,
     "metadata": {},
     "output_type": "execute_result"
    }
   ],
   "source": [
    "m1[2:6,2:4]"
   ]
  },
  {
   "cell_type": "code",
   "execution_count": 84,
   "id": "e7a5828a",
   "metadata": {},
   "outputs": [
    {
     "data": {
      "text/plain": [
       "array([[13]])"
      ]
     },
     "execution_count": 84,
     "metadata": {},
     "output_type": "execute_result"
    }
   ],
   "source": [
    "m1[2:3,2:3]"
   ]
  },
  {
   "cell_type": "code",
   "execution_count": 85,
   "id": "f5cdaac0",
   "metadata": {},
   "outputs": [
    {
     "data": {
      "text/plain": [
       "array([[ 3,  2],\n",
       "       [14, 14]])"
      ]
     },
     "execution_count": 85,
     "metadata": {},
     "output_type": "execute_result"
    }
   ],
   "source": [
    "m1[3:5,2:4]"
   ]
  },
  {
   "cell_type": "markdown",
   "id": "fa5738e8",
   "metadata": {},
   "source": [
    "# MASKING"
   ]
  },
  {
   "cell_type": "code",
   "execution_count": 86,
   "id": "7ba171e7",
   "metadata": {},
   "outputs": [
    {
     "data": {
      "text/plain": [
       "array([[12,  4,  8, 10, 13, 13, 13,  6,  2, 18],\n",
       "       [ 1,  2, 13, 15, 12, 16,  9, 18, 19, 13],\n",
       "       [ 1,  5, 13, 12, 19, 19, 11, 11,  3,  6],\n",
       "       [14,  4,  3,  2,  6,  4, 12, 13, 11,  3],\n",
       "       [19,  3, 14, 14, 10,  6, 18,  5, 11, 11],\n",
       "       [ 4, 18,  6, 12, 11, 10,  4, 17, 18, 12],\n",
       "       [11, 16,  2,  4,  5, 11, 17,  2, 10, 15],\n",
       "       [ 7, 19, 15, 19, 11, 14,  3, 19,  6, 17],\n",
       "       [ 5,  6,  2,  9, 10,  5, 11, 18, 16, 13],\n",
       "       [ 5,  6,  3, 19,  4,  6,  6, 14, 15, 17]])"
      ]
     },
     "execution_count": 86,
     "metadata": {},
     "output_type": "execute_result"
    }
   ],
   "source": [
    "m1"
   ]
  },
  {
   "cell_type": "code",
   "execution_count": 87,
   "id": "6358d900",
   "metadata": {},
   "outputs": [
    {
     "data": {
      "text/plain": [
       "array([12, 13, 13, 13, 18, 13, 15, 12, 16, 18, 19, 13, 13, 12, 19, 19, 11,\n",
       "       11, 14, 12, 13, 11, 19, 14, 14, 18, 11, 11, 18, 12, 11, 17, 18, 12,\n",
       "       11, 16, 11, 17, 15, 19, 15, 19, 11, 14, 19, 17, 11, 18, 16, 13, 19,\n",
       "       14, 15, 17])"
      ]
     },
     "execution_count": 87,
     "metadata": {},
     "output_type": "execute_result"
    }
   ],
   "source": [
    "m1[m1>10]"
   ]
  },
  {
   "cell_type": "code",
   "execution_count": 88,
   "id": "0247bb19",
   "metadata": {},
   "outputs": [
    {
     "data": {
      "text/plain": [
       "array([12, 10, 13, 13, 13, 18, 13, 15, 12, 16, 18, 19, 13, 13, 12, 19, 19,\n",
       "       11, 11, 14, 12, 13, 11, 19, 14, 14, 10, 18, 11, 11, 18, 12, 11, 10,\n",
       "       17, 18, 12, 11, 16, 11, 17, 10, 15, 19, 15, 19, 11, 14, 19, 17, 10,\n",
       "       11, 18, 16, 13, 19, 14, 15, 17])"
      ]
     },
     "execution_count": 88,
     "metadata": {},
     "output_type": "execute_result"
    }
   ],
   "source": [
    "m1[m1>=10]"
   ]
  },
  {
   "cell_type": "code",
   "execution_count": 89,
   "id": "e47c17ff",
   "metadata": {},
   "outputs": [
    {
     "data": {
      "text/plain": [
       "array([4, 2, 1, 2, 1, 5, 3, 4, 3, 2, 4, 3, 3, 5, 4, 4, 2, 4, 5, 2, 3, 5,\n",
       "       2, 5, 5, 3, 4])"
      ]
     },
     "execution_count": 89,
     "metadata": {},
     "output_type": "execute_result"
    }
   ],
   "source": [
    "m1[m1<=5]"
   ]
  },
  {
   "cell_type": "code",
   "execution_count": 90,
   "id": "c27131bf",
   "metadata": {},
   "outputs": [
    {
     "data": {
      "text/plain": [
       "array([12,  4,  8, 10, 13, 13, 13,  6,  2, 18,  1,  2, 13, 12, 16,  9, 18,\n",
       "       19, 13,  1,  5, 13, 12, 19, 19, 11, 11,  3,  6, 14,  4,  3,  2,  6,\n",
       "        4, 12, 13, 11,  3, 19,  3, 14, 14, 10,  6, 18,  5, 11, 11,  4, 18,\n",
       "        6, 12, 11, 10,  4, 17, 18, 12, 11, 16,  2,  4,  5, 11, 17,  2, 10,\n",
       "        7, 19, 19, 11, 14,  3, 19,  6, 17,  5,  6,  2,  9, 10,  5, 11, 18,\n",
       "       16, 13,  5,  6,  3, 19,  4,  6,  6, 14, 17])"
      ]
     },
     "execution_count": 90,
     "metadata": {},
     "output_type": "execute_result"
    }
   ],
   "source": [
    "m1[m1!=15]"
   ]
  },
  {
   "cell_type": "markdown",
   "id": "f311273b",
   "metadata": {},
   "source": [
    "# PROGRAM TO GENERATE OTP"
   ]
  },
  {
   "cell_type": "code",
   "execution_count": 95,
   "id": "7b8b5a21",
   "metadata": {},
   "outputs": [
    {
     "name": "stdout",
     "output_type": "stream",
     "text": [
      "YOUR OTP IS [3 4 2 0] . Please don't share with anyone\n"
     ]
    }
   ],
   "source": [
    "import numpy as np\n",
    "otp = np.random.randint(0,6,4)\n",
    "print(f\"YOUR OTP IS {otp} . Please don't share with anyone\")"
   ]
  }
 ],
 "metadata": {
  "kernelspec": {
   "display_name": "base",
   "language": "python",
   "name": "python3"
  },
  "language_info": {
   "codemirror_mode": {
    "name": "ipython",
    "version": 3
   },
   "file_extension": ".py",
   "mimetype": "text/x-python",
   "name": "python",
   "nbconvert_exporter": "python",
   "pygments_lexer": "ipython3",
   "version": "3.12.7"
  }
 },
 "nbformat": 4,
 "nbformat_minor": 5
}
