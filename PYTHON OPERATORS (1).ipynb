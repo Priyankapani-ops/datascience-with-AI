{
 "cells": [
  {
   "cell_type": "markdown",
   "id": "9edfd8e9-b3e6-453d-b949-c01914d01627",
   "metadata": {},
   "source": [
    "# PYTHON OPERATORS"
   ]
  },
  {
   "cell_type": "markdown",
   "id": "5c0ab0a8-d6a3-4bdc-8823-862e98fa45b8",
   "metadata": {},
   "source": [
    "# 1. Arithmetic operators"
   ]
  },
  {
   "cell_type": "markdown",
   "id": "8f728aa1-822b-4963-8e9f-64cbd02f4b3f",
   "metadata": {},
   "source": [
    "# *   +   -     /      //      %      **"
   ]
  },
  {
   "cell_type": "markdown",
   "id": "58b12d43-9ea0-4cc9-a0eb-be9346fe20a4",
   "metadata": {},
   "source": [
    "# 2. Assignment operators"
   ]
  },
  {
   "cell_type": "code",
   "execution_count": 7,
   "id": "2ff465e6-3afe-4436-9d3e-d7a293e606bc",
   "metadata": {},
   "outputs": [
    {
     "name": "stdout",
     "output_type": "stream",
     "text": [
      "5\n"
     ]
    }
   ],
   "source": [
    "x = 2\n",
    "x += 3\n",
    "print(x)"
   ]
  },
  {
   "cell_type": "code",
   "execution_count": 8,
   "id": "607bdcfa-363b-448b-92f8-3bb442e75f26",
   "metadata": {},
   "outputs": [
    {
     "data": {
      "text/plain": [
       "4"
      ]
     },
     "execution_count": 8,
     "metadata": {},
     "output_type": "execute_result"
    }
   ],
   "source": [
    "x -= 1\n",
    "x"
   ]
  },
  {
   "cell_type": "code",
   "execution_count": 10,
   "id": "1b94a6e1-fd6e-4d30-8f11-82dc07cc3638",
   "metadata": {},
   "outputs": [
    {
     "data": {
      "text/plain": [
       "2.0"
      ]
     },
     "execution_count": 10,
     "metadata": {},
     "output_type": "execute_result"
    }
   ],
   "source": [
    "x /= 2\n",
    "x"
   ]
  },
  {
   "cell_type": "code",
   "execution_count": 13,
   "id": "8ea8f217-4d7b-481d-9c32-2e11df899dda",
   "metadata": {},
   "outputs": [
    {
     "data": {
      "text/plain": [
       "0.0"
      ]
     },
     "execution_count": 13,
     "metadata": {},
     "output_type": "execute_result"
    }
   ],
   "source": [
    "x //= 2\n",
    "x"
   ]
  },
  {
   "cell_type": "code",
   "execution_count": 14,
   "id": "5dd6f3b9-3851-47a7-8a34-35979e18c049",
   "metadata": {},
   "outputs": [
    {
     "data": {
      "text/plain": [
       "0.0"
      ]
     },
     "execution_count": 14,
     "metadata": {},
     "output_type": "execute_result"
    }
   ],
   "source": [
    "x"
   ]
  },
  {
   "cell_type": "code",
   "execution_count": 15,
   "id": "fa334bee-430a-45ba-80fe-698c6e52d9cb",
   "metadata": {},
   "outputs": [
    {
     "data": {
      "text/plain": [
       "10"
      ]
     },
     "execution_count": 15,
     "metadata": {},
     "output_type": "execute_result"
    }
   ],
   "source": [
    "x= 10\n",
    "x"
   ]
  },
  {
   "cell_type": "code",
   "execution_count": 17,
   "id": "d055cd40-8450-4036-b431-cc16b981318c",
   "metadata": {},
   "outputs": [
    {
     "data": {
      "text/plain": [
       "10000"
      ]
     },
     "execution_count": 17,
     "metadata": {},
     "output_type": "execute_result"
    }
   ],
   "source": [
    "x **= 2\n",
    "x"
   ]
  },
  {
   "cell_type": "code",
   "execution_count": 18,
   "id": "2f9d2b35-97a4-45ff-9a33-7e6a858bee45",
   "metadata": {},
   "outputs": [
    {
     "data": {
      "text/plain": [
       "10"
      ]
     },
     "execution_count": 18,
     "metadata": {},
     "output_type": "execute_result"
    }
   ],
   "source": [
    "x %= 555\n",
    "x"
   ]
  },
  {
   "cell_type": "markdown",
   "id": "4f05c92e-802e-44d0-970e-5e1a0738e8bb",
   "metadata": {},
   "source": [
    "# 3.Unary operator"
   ]
  },
  {
   "cell_type": "code",
   "execution_count": 19,
   "id": "c119f0e8-2bea-4599-b3a9-8005c5c6cdc6",
   "metadata": {},
   "outputs": [
    {
     "data": {
      "text/plain": [
       "-7"
      ]
     },
     "execution_count": 19,
     "metadata": {},
     "output_type": "execute_result"
    }
   ],
   "source": [
    "y= 7\n",
    "z= -(y)\n",
    "z"
   ]
  },
  {
   "cell_type": "markdown",
   "id": "d85f2317-6047-4621-b2f3-92790293e758",
   "metadata": {},
   "source": [
    "# 4. Relational operator"
   ]
  },
  {
   "cell_type": "code",
   "execution_count": 20,
   "id": "77244376-11ee-4ece-ae47-a74e5e857f51",
   "metadata": {},
   "outputs": [
    {
     "data": {
      "text/plain": [
       "False"
      ]
     },
     "execution_count": 20,
     "metadata": {},
     "output_type": "execute_result"
    }
   ],
   "source": [
    "5>6"
   ]
  },
  {
   "cell_type": "code",
   "execution_count": 21,
   "id": "aaf81568-1a7f-447c-bf4d-ccccb028ef73",
   "metadata": {},
   "outputs": [
    {
     "data": {
      "text/plain": [
       "True"
      ]
     },
     "execution_count": 21,
     "metadata": {},
     "output_type": "execute_result"
    }
   ],
   "source": [
    "7>4"
   ]
  },
  {
   "cell_type": "code",
   "execution_count": 22,
   "id": "9631a2d7-47c2-446a-9fc7-03db8207226d",
   "metadata": {},
   "outputs": [
    {
     "data": {
      "text/plain": [
       "True"
      ]
     },
     "execution_count": 22,
     "metadata": {},
     "output_type": "execute_result"
    }
   ],
   "source": [
    "8<10"
   ]
  },
  {
   "cell_type": "code",
   "execution_count": 23,
   "id": "bbba22ed-d67a-424a-9d2f-3203c61ec371",
   "metadata": {},
   "outputs": [
    {
     "data": {
      "text/plain": [
       "True"
      ]
     },
     "execution_count": 23,
     "metadata": {},
     "output_type": "execute_result"
    }
   ],
   "source": [
    "7 <= 9"
   ]
  },
  {
   "cell_type": "code",
   "execution_count": 24,
   "id": "0859a7cf-c34d-4f88-a4d1-8bbc57e43849",
   "metadata": {},
   "outputs": [
    {
     "data": {
      "text/plain": [
       "True"
      ]
     },
     "execution_count": 24,
     "metadata": {},
     "output_type": "execute_result"
    }
   ],
   "source": [
    "6 >= 6"
   ]
  },
  {
   "cell_type": "code",
   "execution_count": 25,
   "id": "fe041ced-1a5d-4735-8988-0bb2f4f472b6",
   "metadata": {},
   "outputs": [
    {
     "data": {
      "text/plain": [
       "True"
      ]
     },
     "execution_count": 25,
     "metadata": {},
     "output_type": "execute_result"
    }
   ],
   "source": [
    "8 == 8"
   ]
  },
  {
   "cell_type": "code",
   "execution_count": 26,
   "id": "fb5b6db8-055d-4ac6-8f62-88e656e03a1d",
   "metadata": {},
   "outputs": [
    {
     "data": {
      "text/plain": [
       "True"
      ]
     },
     "execution_count": 26,
     "metadata": {},
     "output_type": "execute_result"
    }
   ],
   "source": [
    "10 != 20"
   ]
  },
  {
   "cell_type": "code",
   "execution_count": 27,
   "id": "ff81ef24-7f69-4535-8ca5-15499d5b5fbb",
   "metadata": {},
   "outputs": [
    {
     "data": {
      "text/plain": [
       "False"
      ]
     },
     "execution_count": 27,
     "metadata": {},
     "output_type": "execute_result"
    }
   ],
   "source": [
    "10 != 10"
   ]
  },
  {
   "cell_type": "markdown",
   "id": "92507f19-10d0-49d6-8db7-e6c53a6db6c1",
   "metadata": {},
   "source": [
    "# 5. Logical operators"
   ]
  },
  {
   "cell_type": "markdown",
   "id": "dfedf5e7-edbd-485b-989d-eda90831035d",
   "metadata": {},
   "source": [
    "# and  or not"
   ]
  },
  {
   "cell_type": "code",
   "execution_count": 28,
   "id": "48f98211-b17c-449c-96ce-dd6d5a20eeb7",
   "metadata": {},
   "outputs": [
    {
     "data": {
      "text/plain": [
       "False"
      ]
     },
     "execution_count": 28,
     "metadata": {},
     "output_type": "execute_result"
    }
   ],
   "source": [
    "5>6 and 6>5"
   ]
  },
  {
   "cell_type": "code",
   "execution_count": 29,
   "id": "f0314f4d-878c-421c-a829-95f1c372e63f",
   "metadata": {},
   "outputs": [
    {
     "data": {
      "text/plain": [
       "True"
      ]
     },
     "execution_count": 29,
     "metadata": {},
     "output_type": "execute_result"
    }
   ],
   "source": [
    "8>=8 and 8==8"
   ]
  },
  {
   "cell_type": "code",
   "execution_count": 30,
   "id": "28337554-fd65-43c5-af24-e77f612df794",
   "metadata": {},
   "outputs": [
    {
     "data": {
      "text/plain": [
       "True"
      ]
     },
     "execution_count": 30,
     "metadata": {},
     "output_type": "execute_result"
    }
   ],
   "source": [
    "9<100 or 100 !=100"
   ]
  },
  {
   "cell_type": "code",
   "execution_count": 32,
   "id": "7ed90078-69c6-42d3-8ecc-cec3227efc94",
   "metadata": {},
   "outputs": [
    {
     "data": {
      "text/plain": [
       "False"
      ]
     },
     "execution_count": 32,
     "metadata": {},
     "output_type": "execute_result"
    }
   ],
   "source": [
    "s= 'python'\n",
    "t = 'datascience'\n",
    "len(t) < len(s) or len(s) == 7"
   ]
  },
  {
   "cell_type": "code",
   "execution_count": null,
   "id": "b29f43b1-3a2f-468b-81d4-2792d4c56ab3",
   "metadata": {},
   "outputs": [],
   "source": []
  }
 ],
 "metadata": {
  "kernelspec": {
   "display_name": "Python [conda env:base] *",
   "language": "python",
   "name": "conda-base-py"
  },
  "language_info": {
   "codemirror_mode": {
    "name": "ipython",
    "version": 3
   },
   "file_extension": ".py",
   "mimetype": "text/x-python",
   "name": "python",
   "nbconvert_exporter": "python",
   "pygments_lexer": "ipython3",
   "version": "3.12.7"
  }
 },
 "nbformat": 4,
 "nbformat_minor": 5
}
