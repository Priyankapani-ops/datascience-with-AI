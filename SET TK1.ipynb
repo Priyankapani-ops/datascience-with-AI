{
 "cells": [
  {
   "cell_type": "markdown",
   "id": "d65211b6-2504-4ee0-a3d4-5151d4635045",
   "metadata": {},
   "source": [
    "# DIFFERENCE"
   ]
  },
  {
   "cell_type": "code",
   "execution_count": 1,
   "id": "a0c2e5db-7b29-4aee-89f0-4069ecea5fc1",
   "metadata": {},
   "outputs": [],
   "source": [
    "A = {1,2,3,4,5}\n",
    "B = {4,5,6,7,8}"
   ]
  },
  {
   "cell_type": "code",
   "execution_count": 2,
   "id": "fdc64603-ca39-4fd1-afe5-2e9ba29c5402",
   "metadata": {},
   "outputs": [
    {
     "data": {
      "text/plain": [
       "{1, 2, 3}"
      ]
     },
     "execution_count": 2,
     "metadata": {},
     "output_type": "execute_result"
    }
   ],
   "source": [
    "A-B"
   ]
  },
  {
   "cell_type": "code",
   "execution_count": 3,
   "id": "0fad46d2-2ada-4fe5-a3b0-389aecd34848",
   "metadata": {},
   "outputs": [],
   "source": [
    "A.difference_update(B)"
   ]
  },
  {
   "cell_type": "code",
   "execution_count": 4,
   "id": "5de39aa3-0ccf-4d0d-9ba7-8d5ef4d7c53e",
   "metadata": {},
   "outputs": [
    {
     "name": "stdout",
     "output_type": "stream",
     "text": [
      "{1, 2, 3}\n",
      "{4, 5, 6, 7, 8}\n"
     ]
    }
   ],
   "source": [
    "print(A)\n",
    "print(B)"
   ]
  },
  {
   "cell_type": "markdown",
   "id": "b2076527-5081-45cc-a9de-b1f1bf61d2f7",
   "metadata": {},
   "source": [
    "# symmetric_difference"
   ]
  },
  {
   "cell_type": "code",
   "execution_count": 5,
   "id": "73fbd32b-cee0-41aa-bfe5-6b7e8d0699bf",
   "metadata": {},
   "outputs": [],
   "source": [
    "a={1,2,3,4,5}\n",
    "b={3,4,5,6,7,8}"
   ]
  },
  {
   "cell_type": "code",
   "execution_count": 6,
   "id": "71bd79f7-93bf-4a0f-b741-a4eb9cdd6caf",
   "metadata": {},
   "outputs": [
    {
     "data": {
      "text/plain": [
       "{1, 2, 6, 7, 8}"
      ]
     },
     "execution_count": 6,
     "metadata": {},
     "output_type": "execute_result"
    }
   ],
   "source": [
    "a^b"
   ]
  },
  {
   "cell_type": "code",
   "execution_count": 7,
   "id": "4cb39ec9-b362-4967-b9db-3470bb0114e5",
   "metadata": {},
   "outputs": [],
   "source": [
    "a.symmetric_difference_update(b)"
   ]
  },
  {
   "cell_type": "code",
   "execution_count": 8,
   "id": "fd9969b1-79be-42b4-82cb-ac4ec026d0c8",
   "metadata": {},
   "outputs": [
    {
     "name": "stdout",
     "output_type": "stream",
     "text": [
      "{1, 2, 6, 7, 8}\n",
      "{3, 4, 5, 6, 7, 8}\n"
     ]
    }
   ],
   "source": [
    "print(a)\n",
    "print(b)"
   ]
  },
  {
   "cell_type": "markdown",
   "id": "e1561420-b5a3-42b8-a24b-22563e3ceb25",
   "metadata": {},
   "source": [
    "# INTERSECTION"
   ]
  },
  {
   "cell_type": "code",
   "execution_count": 10,
   "id": "4ba3d590-70a9-4198-9ee9-54b985b2a581",
   "metadata": {},
   "outputs": [],
   "source": [
    "a1={1,2,3,4,5,6}\n",
    "b1={4,5,6,7,8}"
   ]
  },
  {
   "cell_type": "code",
   "execution_count": 11,
   "id": "2841f95b-1c65-43df-9673-e886d7f00e4d",
   "metadata": {},
   "outputs": [
    {
     "data": {
      "text/plain": [
       "{4, 5, 6}"
      ]
     },
     "execution_count": 11,
     "metadata": {},
     "output_type": "execute_result"
    }
   ],
   "source": [
    "a1&b1"
   ]
  },
  {
   "cell_type": "code",
   "execution_count": 12,
   "id": "19f82f93-780c-4e08-bc3b-d41913d4bf65",
   "metadata": {},
   "outputs": [],
   "source": [
    "b1.intersection_update(a1)"
   ]
  },
  {
   "cell_type": "code",
   "execution_count": 13,
   "id": "a4eeeec1-36c5-4b15-a5ce-51aba916ef76",
   "metadata": {},
   "outputs": [
    {
     "name": "stdout",
     "output_type": "stream",
     "text": [
      "{1, 2, 3, 4, 5, 6}\n",
      "{4, 5, 6}\n"
     ]
    }
   ],
   "source": [
    "print(a1)\n",
    "print(b1)"
   ]
  },
  {
   "cell_type": "markdown",
   "id": "f34761ad-8ab7-4f32-a513-67080df142c8",
   "metadata": {},
   "source": [
    "# subset superset disjoint"
   ]
  },
  {
   "cell_type": "code",
   "execution_count": 20,
   "id": "55badee0-1b62-4d28-950b-cb8e0346cea3",
   "metadata": {},
   "outputs": [],
   "source": [
    "a2= {1,2,3,4,5,6,7,8}\n",
    "b2={6,7,8}\n",
    "c2={1,10,20,30,40}"
   ]
  },
  {
   "cell_type": "code",
   "execution_count": 21,
   "id": "b345f58d-98a2-48d0-8ebd-5318443b1894",
   "metadata": {},
   "outputs": [
    {
     "data": {
      "text/plain": [
       "True"
      ]
     },
     "execution_count": 21,
     "metadata": {},
     "output_type": "execute_result"
    }
   ],
   "source": [
    "b2.issubset(a2)"
   ]
  },
  {
   "cell_type": "code",
   "execution_count": 22,
   "id": "e8c65d7f-1ace-402a-aba9-fe5f743e2c5e",
   "metadata": {},
   "outputs": [
    {
     "data": {
      "text/plain": [
       "False"
      ]
     },
     "execution_count": 22,
     "metadata": {},
     "output_type": "execute_result"
    }
   ],
   "source": [
    "c2.isdisjoint(a2)"
   ]
  },
  {
   "cell_type": "code",
   "execution_count": 23,
   "id": "c2e9c52a-250f-4e54-880c-91e72d481768",
   "metadata": {},
   "outputs": [
    {
     "data": {
      "text/plain": [
       "True"
      ]
     },
     "execution_count": 23,
     "metadata": {},
     "output_type": "execute_result"
    }
   ],
   "source": [
    "c2.isdisjoint(b2)"
   ]
  },
  {
   "cell_type": "code",
   "execution_count": 24,
   "id": "ff1dd599-4dbd-4ecb-98db-855365848994",
   "metadata": {},
   "outputs": [
    {
     "data": {
      "text/plain": [
       "True"
      ]
     },
     "execution_count": 24,
     "metadata": {},
     "output_type": "execute_result"
    }
   ],
   "source": [
    "a2.issuperset(b2)"
   ]
  },
  {
   "cell_type": "markdown",
   "id": "aed891cf-d690-488e-b05b-110088ee2c68",
   "metadata": {},
   "source": [
    "# other builtin functions"
   ]
  },
  {
   "cell_type": "code",
   "execution_count": 27,
   "id": "3107822b-96df-415b-bddf-26ab95aaacf4",
   "metadata": {},
   "outputs": [
    {
     "data": {
      "text/plain": [
       "{1, 2, 3, 4, 5, 6, 7, 8}"
      ]
     },
     "execution_count": 27,
     "metadata": {},
     "output_type": "execute_result"
    }
   ],
   "source": [
    "a2"
   ]
  },
  {
   "cell_type": "code",
   "execution_count": 28,
   "id": "1a632626-f66e-445e-af9e-e4e567631a9a",
   "metadata": {},
   "outputs": [
    {
     "data": {
      "text/plain": [
       "36"
      ]
     },
     "execution_count": 28,
     "metadata": {},
     "output_type": "execute_result"
    }
   ],
   "source": [
    "sum(a2)"
   ]
  },
  {
   "cell_type": "code",
   "execution_count": 29,
   "id": "1ea264fe-e742-4bac-a60e-58042e67873e",
   "metadata": {},
   "outputs": [
    {
     "data": {
      "text/plain": [
       "8"
      ]
     },
     "execution_count": 29,
     "metadata": {},
     "output_type": "execute_result"
    }
   ],
   "source": [
    "max(a2)"
   ]
  },
  {
   "cell_type": "code",
   "execution_count": 30,
   "id": "4ac90bb0-e962-4b5f-b23b-75af109f9cb4",
   "metadata": {},
   "outputs": [
    {
     "data": {
      "text/plain": [
       "1"
      ]
     },
     "execution_count": 30,
     "metadata": {},
     "output_type": "execute_result"
    }
   ],
   "source": [
    "min(a2)"
   ]
  },
  {
   "cell_type": "code",
   "execution_count": 31,
   "id": "256cec3d-c66c-4cee-8f0d-e907428429ec",
   "metadata": {},
   "outputs": [
    {
     "data": {
      "text/plain": [
       "8"
      ]
     },
     "execution_count": 31,
     "metadata": {},
     "output_type": "execute_result"
    }
   ],
   "source": [
    "len(a2)"
   ]
  },
  {
   "cell_type": "code",
   "execution_count": 32,
   "id": "b0167c08-73a5-4ad2-aec5-76d17bd2a896",
   "metadata": {},
   "outputs": [
    {
     "data": {
      "text/plain": [
       "[1, 2, 3, 4, 5, 6, 7, 8]"
      ]
     },
     "execution_count": 32,
     "metadata": {},
     "output_type": "execute_result"
    }
   ],
   "source": [
    "sorted(a2)"
   ]
  },
  {
   "cell_type": "code",
   "execution_count": null,
   "id": "1309942a-c7bf-46b2-83c5-e615d6241935",
   "metadata": {},
   "outputs": [],
   "source": [
    "sorted"
   ]
  }
 ],
 "metadata": {
  "kernelspec": {
   "display_name": "Python [conda env:base] *",
   "language": "python",
   "name": "conda-base-py"
  },
  "language_info": {
   "codemirror_mode": {
    "name": "ipython",
    "version": 3
   },
   "file_extension": ".py",
   "mimetype": "text/x-python",
   "name": "python",
   "nbconvert_exporter": "python",
   "pygments_lexer": "ipython3",
   "version": "3.12.7"
  }
 },
 "nbformat": 4,
 "nbformat_minor": 5
}
