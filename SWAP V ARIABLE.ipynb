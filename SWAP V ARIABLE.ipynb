{
 "cells": [
  {
   "cell_type": "markdown",
   "id": "9c57829a-d2a2-44b6-a8e4-bc614ba516f9",
   "metadata": {},
   "source": [
    "# SWAP VARIABLE"
   ]
  },
  {
   "cell_type": "markdown",
   "id": "c9a78111-0c46-4630-a891-60ae362b9077",
   "metadata": {},
   "source": [
    "# using third variable"
   ]
  },
  {
   "cell_type": "code",
   "execution_count": 10,
   "id": "4f95a67b-e6eb-4005-aa87-5b68f84ef5da",
   "metadata": {},
   "outputs": [
    {
     "name": "stdout",
     "output_type": "stream",
     "text": [
      "4\n",
      "3\n"
     ]
    }
   ],
   "source": [
    "a=3\n",
    "b=4\n",
    "temp =a\n",
    "a = b\n",
    "b = temp\n",
    "print(a)\n",
    "print(b)"
   ]
  },
  {
   "cell_type": "markdown",
   "id": "666a5bca-b960-4da7-81fb-833fcb1e2524",
   "metadata": {},
   "source": [
    "# using a+b a-b a+b"
   ]
  },
  {
   "cell_type": "code",
   "execution_count": 11,
   "id": "6b846f91-70c9-4b94-9a04-01f376eb4877",
   "metadata": {},
   "outputs": [
    {
     "name": "stdout",
     "output_type": "stream",
     "text": [
      "6\n",
      "5\n"
     ]
    }
   ],
   "source": [
    "a2=5\n",
    "b2=6\n",
    "a2= a2+b2\n",
    "b2= a2 - b2\n",
    "a2= a2 - b2\n",
    "print(a2)\n",
    "print(b2)"
   ]
  },
  {
   "cell_type": "markdown",
   "id": "20aa9154-79a7-427d-baf7-e93dab99ae56",
   "metadata": {},
   "source": [
    "# using a,b = b,a"
   ]
  },
  {
   "cell_type": "code",
   "execution_count": 12,
   "id": "40e191f8-540a-4f0b-b9dc-639bc75d91c1",
   "metadata": {},
   "outputs": [
    {
     "name": "stdout",
     "output_type": "stream",
     "text": [
      "9\n",
      "8\n"
     ]
    }
   ],
   "source": [
    "a3= 8\n",
    "b3 = 9\n",
    "a3,b3 = b3,a3\n",
    "print(a3)\n",
    "print(b3)"
   ]
  },
  {
   "cell_type": "code",
   "execution_count": null,
   "id": "14e1fa85-d170-4525-b30a-ff622fbd84eb",
   "metadata": {},
   "outputs": [],
   "source": []
  }
 ],
 "metadata": {
  "kernelspec": {
   "display_name": "Python [conda env:base] *",
   "language": "python",
   "name": "conda-base-py"
  },
  "language_info": {
   "codemirror_mode": {
    "name": "ipython",
    "version": 3
   },
   "file_extension": ".py",
   "mimetype": "text/x-python",
   "name": "python",
   "nbconvert_exporter": "python",
   "pygments_lexer": "ipython3",
   "version": "3.12.7"
  }
 },
 "nbformat": 4,
 "nbformat_minor": 5
}
