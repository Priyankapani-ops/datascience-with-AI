{
 "cells": [
  {
   "cell_type": "markdown",
   "id": "83ff1715-c2a4-487c-94df-fa24e7cfc767",
   "metadata": {},
   "source": [
    "#NESTED TUPLES"
   ]
  },
  {
   "cell_type": "code",
   "execution_count": 1,
   "id": "b08d9fbe-2e75-4563-9fcf-904b7e137a70",
   "metadata": {},
   "outputs": [
    {
     "name": "stdout",
     "output_type": "stream",
     "text": [
      "('priya', 3, [5, 6], [7, 8], {'kit', 'nit'}, (9, 10, 11), 'priya')\n"
     ]
    }
   ],
   "source": [
    "tup = ('priya',3,[5,6],[7,8],{'nit','kit'},(9,10,11),'priya')\n",
    "print(tup)"
   ]
  },
  {
   "cell_type": "code",
   "execution_count": 2,
   "id": "d8bb5e21-b897-4a99-8f9d-0179264c3ebc",
   "metadata": {},
   "outputs": [
    {
     "data": {
      "text/plain": [
       "7"
      ]
     },
     "execution_count": 2,
     "metadata": {},
     "output_type": "execute_result"
    }
   ],
   "source": [
    "len(tup)"
   ]
  },
  {
   "cell_type": "markdown",
   "id": "8938dc08-b674-4ed5-aec4-cf55361700b1",
   "metadata": {},
   "source": [
    "#indexing"
   ]
  },
  {
   "cell_type": "code",
   "execution_count": 3,
   "id": "786cbd25-b776-4f93-b112-ffc764996e8d",
   "metadata": {},
   "outputs": [
    {
     "data": {
      "text/plain": [
       "5"
      ]
     },
     "execution_count": 3,
     "metadata": {},
     "output_type": "execute_result"
    }
   ],
   "source": [
    "tup[2][0]"
   ]
  },
  {
   "cell_type": "code",
   "execution_count": 4,
   "id": "3ea63052-91ef-4fbd-8ec0-bd587e5a9ca6",
   "metadata": {},
   "outputs": [
    {
     "data": {
      "text/plain": [
       "{'kit', 'nit'}"
      ]
     },
     "execution_count": 4,
     "metadata": {},
     "output_type": "execute_result"
    }
   ],
   "source": [
    "tup[4]"
   ]
  },
  {
   "cell_type": "code",
   "execution_count": 5,
   "id": "76a39e71-a0df-4a26-95d0-032f8412cbb0",
   "metadata": {},
   "outputs": [
    {
     "data": {
      "text/plain": [
       "'priya'"
      ]
     },
     "execution_count": 5,
     "metadata": {},
     "output_type": "execute_result"
    }
   ],
   "source": [
    "tup[-1]"
   ]
  },
  {
   "cell_type": "code",
   "execution_count": 11,
   "id": "72bcd4c4-281c-40c9-bc75-d1f239336325",
   "metadata": {},
   "outputs": [
    {
     "data": {
      "text/plain": [
       "{'kit', 'nit'}"
      ]
     },
     "execution_count": 11,
     "metadata": {},
     "output_type": "execute_result"
    }
   ],
   "source": [
    "tup[-3]"
   ]
  },
  {
   "cell_type": "code",
   "execution_count": 12,
   "id": "46d3c3b7-f0c1-4bff-9016-8a480d2bea59",
   "metadata": {},
   "outputs": [
    {
     "data": {
      "text/plain": [
       "('one', 'two', 'three', 4, 5, 6, 'seven', 'eight', 'nine')"
      ]
     },
     "execution_count": 12,
     "metadata": {},
     "output_type": "execute_result"
    }
   ],
   "source": [
    "tup1= (\"one\",\"two\",\"three\",4,5,6,\"seven\",\"eight\",\"nine\")\n",
    "tup1"
   ]
  },
  {
   "cell_type": "code",
   "execution_count": 15,
   "id": "4b208c11-9118-4019-857e-4023852cd72b",
   "metadata": {},
   "outputs": [
    {
     "data": {
      "text/plain": [
       "('one', 'two', 'three', 4, 5)"
      ]
     },
     "execution_count": 15,
     "metadata": {},
     "output_type": "execute_result"
    }
   ],
   "source": [
    "tup1[0:5]"
   ]
  },
  {
   "cell_type": "code",
   "execution_count": 16,
   "id": "5991d7ed-f160-4d0b-b570-26b0ca9e259f",
   "metadata": {},
   "outputs": [
    {
     "data": {
      "text/plain": [
       "('eight', 'nine')"
      ]
     },
     "execution_count": 16,
     "metadata": {},
     "output_type": "execute_result"
    }
   ],
   "source": [
    "tup1[-2:]"
   ]
  },
  {
   "cell_type": "code",
   "execution_count": 17,
   "id": "68671bcd-375a-4286-a03e-7d0d97100ff7",
   "metadata": {},
   "outputs": [
    {
     "data": {
      "text/plain": [
       "(4, 5, 6)"
      ]
     },
     "execution_count": 17,
     "metadata": {},
     "output_type": "execute_result"
    }
   ],
   "source": [
    "tup1[3:6]"
   ]
  },
  {
   "cell_type": "markdown",
   "id": "3c244e02-4f32-4a9a-a72a-30e96d51f2c8",
   "metadata": {},
   "source": [
    "#LOOP THROUGH TUPLE"
   ]
  },
  {
   "cell_type": "code",
   "execution_count": 24,
   "id": "9afa95a3-ef5c-442b-bf11-004d44fa7255",
   "metadata": {},
   "outputs": [
    {
     "name": "stdout",
     "output_type": "stream",
     "text": [
      "one\n",
      "two\n",
      "three\n",
      "4\n",
      "5\n",
      "6\n",
      "seven\n",
      "eight\n",
      "nine\n"
     ]
    }
   ],
   "source": [
    "for i in tup1:\n",
    "    print(i)"
   ]
  },
  {
   "cell_type": "code",
   "execution_count": 25,
   "id": "3b9cbfcd-51f9-4453-abb3-f08c809361bd",
   "metadata": {},
   "outputs": [
    {
     "name": "stdout",
     "output_type": "stream",
     "text": [
      "(0, 'one')\n",
      "(1, 'two')\n",
      "(2, 'three')\n",
      "(3, 4)\n",
      "(4, 5)\n",
      "(5, 6)\n",
      "(6, 'seven')\n",
      "(7, 'eight')\n",
      "(8, 'nine')\n"
     ]
    }
   ],
   "source": [
    "for i in enumerate(tup1):\n",
    "    print(i)"
   ]
  },
  {
   "cell_type": "markdown",
   "id": "4c3f84fe-6137-4ce8-9221-237da4b10f96",
   "metadata": {},
   "source": [
    "#TUPLE MEMBERSHIP"
   ]
  },
  {
   "cell_type": "code",
   "execution_count": 26,
   "id": "cb08c93a-8e07-48a0-a2f8-f3426f9406b2",
   "metadata": {},
   "outputs": [
    {
     "data": {
      "text/plain": [
       "True"
      ]
     },
     "execution_count": 26,
     "metadata": {},
     "output_type": "execute_result"
    }
   ],
   "source": [
    "\"one\" in tup1"
   ]
  },
  {
   "cell_type": "code",
   "execution_count": 27,
   "id": "f7ad1b39-5e4c-4d4b-ba38-8bed3b1d0b10",
   "metadata": {},
   "outputs": [
    {
     "name": "stdout",
     "output_type": "stream",
     "text": [
      " 'seven' is present in 'tup1' \n"
     ]
    }
   ],
   "source": [
    "if \"seven\" in tup1:\n",
    "    print(\" 'seven' is present in 'tup1' \")\n",
    "else:\n",
    "    print(\" 'seven is not present in 'tup1' \")"
   ]
  },
  {
   "cell_type": "markdown",
   "id": "8a1d0574-ed45-4a5f-8b8d-b790590cb26e",
   "metadata": {},
   "source": [
    "#INDEXING"
   ]
  },
  {
   "cell_type": "code",
   "execution_count": 28,
   "id": "6c2bfaee-c946-4b6c-ab5c-7b46a4ada7c1",
   "metadata": {},
   "outputs": [
    {
     "data": {
      "text/plain": [
       "8"
      ]
     },
     "execution_count": 28,
     "metadata": {},
     "output_type": "execute_result"
    }
   ],
   "source": [
    "tup1.index(\"nine\")"
   ]
  },
  {
   "cell_type": "code",
   "execution_count": 30,
   "id": "845d9a1a-6236-45c3-83bd-a42ced12764c",
   "metadata": {},
   "outputs": [
    {
     "data": {
      "text/plain": [
       "4"
      ]
     },
     "execution_count": 30,
     "metadata": {},
     "output_type": "execute_result"
    }
   ],
   "source": [
    "tup.index({'kit','nit'})"
   ]
  },
  {
   "cell_type": "code",
   "execution_count": 32,
   "id": "b26152c2-9bd9-4f73-858e-1e60ff05eab4",
   "metadata": {},
   "outputs": [
    {
     "data": {
      "text/plain": [
       "2"
      ]
     },
     "execution_count": 32,
     "metadata": {},
     "output_type": "execute_result"
    }
   ],
   "source": [
    "tup.index([5,6])"
   ]
  },
  {
   "cell_type": "markdown",
   "id": "fd6f5fbf-0807-4ca1-805c-b02bd661feea",
   "metadata": {},
   "source": [
    "#SORTING"
   ]
  },
  {
   "cell_type": "code",
   "execution_count": 33,
   "id": "c2c5f897-b8ec-43cf-946f-6e115eecba5c",
   "metadata": {},
   "outputs": [
    {
     "data": {
      "text/plain": [
       "[10, 30, 40, 60, 80, 90]"
      ]
     },
     "execution_count": 33,
     "metadata": {},
     "output_type": "execute_result"
    }
   ],
   "source": [
    "mytuple = (60,30,80,40,90,10)\n",
    "sorted(mytuple)"
   ]
  },
  {
   "cell_type": "code",
   "execution_count": 34,
   "id": "b6c22b8b-e5eb-447e-80ff-09883ffa6482",
   "metadata": {},
   "outputs": [
    {
     "ename": "AttributeError",
     "evalue": "'tuple' object has no attribute 'sort'",
     "output_type": "error",
     "traceback": [
      "\u001b[1;31m---------------------------------------------------------------------------\u001b[0m",
      "\u001b[1;31mAttributeError\u001b[0m                            Traceback (most recent call last)",
      "Cell \u001b[1;32mIn[34], line 1\u001b[0m\n\u001b[1;32m----> 1\u001b[0m mytuple\u001b[38;5;241m.\u001b[39msort()\n",
      "\u001b[1;31mAttributeError\u001b[0m: 'tuple' object has no attribute 'sort'"
     ]
    }
   ],
   "source": [
    "mytuple.sort()"
   ]
  },
  {
   "cell_type": "code",
   "execution_count": 35,
   "id": "d895d8d5-fc0b-405b-a511-c1f1350300f0",
   "metadata": {},
   "outputs": [
    {
     "data": {
      "text/plain": [
       "[90, 80, 60, 40, 30, 10]"
      ]
     },
     "execution_count": 35,
     "metadata": {},
     "output_type": "execute_result"
    }
   ],
   "source": [
    "sorted(mytuple,reverse=True)"
   ]
  },
  {
   "cell_type": "code",
   "execution_count": null,
   "id": "a09f1876-52e9-4373-8b4c-3a09dec15fa0",
   "metadata": {},
   "outputs": [],
   "source": []
  }
 ],
 "metadata": {
  "kernelspec": {
   "display_name": "Python [conda env:base] *",
   "language": "python",
   "name": "conda-base-py"
  },
  "language_info": {
   "codemirror_mode": {
    "name": "ipython",
    "version": 3
   },
   "file_extension": ".py",
   "mimetype": "text/x-python",
   "name": "python",
   "nbconvert_exporter": "python",
   "pygments_lexer": "ipython3",
   "version": "3.12.7"
  }
 },
 "nbformat": 4,
 "nbformat_minor": 5
}
